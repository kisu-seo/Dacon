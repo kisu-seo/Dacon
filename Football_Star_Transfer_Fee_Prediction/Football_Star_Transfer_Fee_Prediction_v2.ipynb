{
 "cells": [
  {
   "cell_type": "markdown",
   "metadata": {},
   "source": [
    "# 해외 축구선수 이적료 예측 미션\n",
    "\n",
    "### 1. 출처 : [데이콘 - 해외 축구 선수 이적료 예측 미션](https://dacon.io/competitions/open/235538/overview/description/)\n",
    "\n",
    "\n",
    "### 2. 목표 : 축구선수의 정보와 능력치가 포함된 데이터의 선수들의 이적료를 예측\n",
    "\n",
    "\n",
    "### 3. Column 설명\n",
    "\n",
    "\n",
    "1. id : 선수 고유의 아이디\n",
    "2. name : 이름\n",
    "3. age : 나이\n",
    "4. continent : 선수들의 국적이 포함되어 있는 대륙입니다\n",
    "5. contract_until : 선수의 계약기간이 언제까지인지 나타내어 줍니다\n",
    "6. position : 선수가 선호하는 포지션입니다. ex) 공격수, 수비수 등\n",
    "7. prefer_foot : 선수가 선호하는 발입니다. ex) 오른발\n",
    "8. reputation : 선수가 유명한 정도입니다. ex) 높은 수치일 수록 유명한 선수\n",
    "9. stat_overall : 선수의 현재 능력치 입니다.\n",
    "10. stat_potential : 선수가 경험 및 노력을 통해 발전할 수 있는 정도입니다.\n",
    "11. stat_skill_moves : 선수의 개인기 능력치 입니다.\n",
    "12. value : FIFA가 선정한 선수의 이적 시장 가격 (단위 : 유로) 입니다.\n",
    "\n"
   ]
  },
  {
   "cell_type": "markdown",
   "metadata": {},
   "source": [
    "---"
   ]
  },
  {
   "cell_type": "code",
   "execution_count": 1,
   "metadata": {},
   "outputs": [],
   "source": [
    "# 패키지 불러오기\n",
    "import pandas as pd\n",
    "import numpy as np\n",
    "import seaborn as sns\n",
    "import matplotlib\n",
    "%matplotlib inline\n",
    "\n",
    "import matplotlib.pyplot as plt\n",
    "sns.set(style = \"whitegrid\")\n",
    "\n",
    "from IPython.display import set_matplotlib_formats\n",
    "\n",
    "import warnings\n",
    "warnings.filterwarnings(\"ignore\")"
   ]
  },
  {
   "cell_type": "code",
   "execution_count": 2,
   "metadata": {},
   "outputs": [],
   "source": [
    "# Mac OS를 이용하고 있기 떄문에 AppleGothic을 설정했습니다.\n",
    "# 윈도우의 경우 다른 폰트를 사용해주셔야 합니다. 나눔폰트가 있는 경우 'NanumGothic' 없는 경우에는 'Malgun Gothic'을 사용해주세요.\n",
    "matplotlib.rc('font', family='AppleGothic')\n",
    "#matplotlib.rc('font', family='Malgun Gothic')\n",
    "\n",
    "# 폰트를 바꿀 경우 마이너스가 표시되지 않는 경우도 있는데 이를 막아주는 코드입니다.\n",
    "matplotlib.rc('axes', unicode_minus=False)\n",
    "matplotlib.rcParams['axes.unicode_minus'] = False\n",
    "\n",
    "# retina 옵션을 통해 해상도를 올립니다.\n",
    "set_matplotlib_formats('retina')\n",
    "\n",
    "# 화면에 출력하는 데이터 프레임의 최대 row 수를 500으로 설정합니다.\n",
    "pd.set_option('display.max_rows', 500)\n",
    "\n",
    "# 화면에 출력하는 데이터 프레임의 최대 column 수를 500으로 설정합니다.\n",
    "pd.set_option('display.max_columns', 500)"
   ]
  },
  {
   "cell_type": "markdown",
   "metadata": {},
   "source": [
    "---"
   ]
  },
  {
   "cell_type": "markdown",
   "metadata": {},
   "source": [
    "## 데이터 불러오기"
   ]
  },
  {
   "cell_type": "code",
   "execution_count": 3,
   "metadata": {},
   "outputs": [
    {
     "name": "stdout",
     "output_type": "stream",
     "text": [
      "(8932, 12)\n"
     ]
    },
    {
     "data": {
      "text/html": [
       "<div>\n",
       "<style scoped>\n",
       "    .dataframe tbody tr th:only-of-type {\n",
       "        vertical-align: middle;\n",
       "    }\n",
       "\n",
       "    .dataframe tbody tr th {\n",
       "        vertical-align: top;\n",
       "    }\n",
       "\n",
       "    .dataframe thead th {\n",
       "        text-align: right;\n",
       "    }\n",
       "</style>\n",
       "<table border=\"1\" class=\"dataframe\">\n",
       "  <thead>\n",
       "    <tr style=\"text-align: right;\">\n",
       "      <th></th>\n",
       "      <th>id</th>\n",
       "      <th>name</th>\n",
       "      <th>age</th>\n",
       "      <th>continent</th>\n",
       "      <th>contract_until</th>\n",
       "      <th>position</th>\n",
       "      <th>prefer_foot</th>\n",
       "      <th>reputation</th>\n",
       "      <th>stat_overall</th>\n",
       "      <th>stat_potential</th>\n",
       "      <th>stat_skill_moves</th>\n",
       "      <th>value</th>\n",
       "    </tr>\n",
       "  </thead>\n",
       "  <tbody>\n",
       "    <tr>\n",
       "      <td>0</td>\n",
       "      <td>0</td>\n",
       "      <td>L. Messi</td>\n",
       "      <td>31</td>\n",
       "      <td>south america</td>\n",
       "      <td>2021</td>\n",
       "      <td>ST</td>\n",
       "      <td>left</td>\n",
       "      <td>5.0</td>\n",
       "      <td>94</td>\n",
       "      <td>94</td>\n",
       "      <td>4.0</td>\n",
       "      <td>110500000.0</td>\n",
       "    </tr>\n",
       "    <tr>\n",
       "      <td>1</td>\n",
       "      <td>3</td>\n",
       "      <td>De Gea</td>\n",
       "      <td>27</td>\n",
       "      <td>europe</td>\n",
       "      <td>2020</td>\n",
       "      <td>GK</td>\n",
       "      <td>right</td>\n",
       "      <td>4.0</td>\n",
       "      <td>91</td>\n",
       "      <td>93</td>\n",
       "      <td>1.0</td>\n",
       "      <td>72000000.0</td>\n",
       "    </tr>\n",
       "    <tr>\n",
       "      <td>2</td>\n",
       "      <td>7</td>\n",
       "      <td>L. Suárez</td>\n",
       "      <td>31</td>\n",
       "      <td>south america</td>\n",
       "      <td>2021</td>\n",
       "      <td>ST</td>\n",
       "      <td>right</td>\n",
       "      <td>5.0</td>\n",
       "      <td>91</td>\n",
       "      <td>91</td>\n",
       "      <td>3.0</td>\n",
       "      <td>80000000.0</td>\n",
       "    </tr>\n",
       "    <tr>\n",
       "      <td>3</td>\n",
       "      <td>8</td>\n",
       "      <td>Sergio Ramos</td>\n",
       "      <td>32</td>\n",
       "      <td>europe</td>\n",
       "      <td>2020</td>\n",
       "      <td>DF</td>\n",
       "      <td>right</td>\n",
       "      <td>4.0</td>\n",
       "      <td>91</td>\n",
       "      <td>91</td>\n",
       "      <td>3.0</td>\n",
       "      <td>51000000.0</td>\n",
       "    </tr>\n",
       "    <tr>\n",
       "      <td>4</td>\n",
       "      <td>9</td>\n",
       "      <td>J. Oblak</td>\n",
       "      <td>25</td>\n",
       "      <td>europe</td>\n",
       "      <td>2021</td>\n",
       "      <td>GK</td>\n",
       "      <td>right</td>\n",
       "      <td>3.0</td>\n",
       "      <td>90</td>\n",
       "      <td>93</td>\n",
       "      <td>1.0</td>\n",
       "      <td>68000000.0</td>\n",
       "    </tr>\n",
       "  </tbody>\n",
       "</table>\n",
       "</div>"
      ],
      "text/plain": [
       "   id          name  age      continent contract_until position prefer_foot  \\\n",
       "0   0      L. Messi   31  south america           2021       ST        left   \n",
       "1   3        De Gea   27         europe           2020       GK       right   \n",
       "2   7     L. Suárez   31  south america           2021       ST       right   \n",
       "3   8  Sergio Ramos   32         europe           2020       DF       right   \n",
       "4   9      J. Oblak   25         europe           2021       GK       right   \n",
       "\n",
       "   reputation  stat_overall  stat_potential  stat_skill_moves        value  \n",
       "0         5.0            94              94               4.0  110500000.0  \n",
       "1         4.0            91              93               1.0   72000000.0  \n",
       "2         5.0            91              91               3.0   80000000.0  \n",
       "3         4.0            91              91               3.0   51000000.0  \n",
       "4         3.0            90              93               1.0   68000000.0  "
      ]
     },
     "execution_count": 3,
     "metadata": {},
     "output_type": "execute_result"
    }
   ],
   "source": [
    "# FIFA_train.csv 데이터를 불러와서 raw_train 이라는 변수에 할당합니다.\n",
    "raw_train = pd.read_csv(\"data/FIFA_train.csv\") \n",
    "\n",
    "print(raw_train.shape) # raw_train 데이터의 row, column 갯수를 출력합니다.\n",
    "raw_train.head() # raw_train 데이터의 상위 5개 데이터를 출력합니다."
   ]
  },
  {
   "cell_type": "code",
   "execution_count": 4,
   "metadata": {},
   "outputs": [
    {
     "name": "stdout",
     "output_type": "stream",
     "text": [
      "(3828, 11)\n"
     ]
    },
    {
     "data": {
      "text/html": [
       "<div>\n",
       "<style scoped>\n",
       "    .dataframe tbody tr th:only-of-type {\n",
       "        vertical-align: middle;\n",
       "    }\n",
       "\n",
       "    .dataframe tbody tr th {\n",
       "        vertical-align: top;\n",
       "    }\n",
       "\n",
       "    .dataframe thead th {\n",
       "        text-align: right;\n",
       "    }\n",
       "</style>\n",
       "<table border=\"1\" class=\"dataframe\">\n",
       "  <thead>\n",
       "    <tr style=\"text-align: right;\">\n",
       "      <th></th>\n",
       "      <th>id</th>\n",
       "      <th>name</th>\n",
       "      <th>age</th>\n",
       "      <th>continent</th>\n",
       "      <th>contract_until</th>\n",
       "      <th>position</th>\n",
       "      <th>prefer_foot</th>\n",
       "      <th>reputation</th>\n",
       "      <th>stat_overall</th>\n",
       "      <th>stat_potential</th>\n",
       "      <th>stat_skill_moves</th>\n",
       "    </tr>\n",
       "  </thead>\n",
       "  <tbody>\n",
       "    <tr>\n",
       "      <td>0</td>\n",
       "      <td>1</td>\n",
       "      <td>Cristiano Ronaldo</td>\n",
       "      <td>33</td>\n",
       "      <td>europe</td>\n",
       "      <td>2022</td>\n",
       "      <td>ST</td>\n",
       "      <td>right</td>\n",
       "      <td>5.0</td>\n",
       "      <td>94</td>\n",
       "      <td>94</td>\n",
       "      <td>5.0</td>\n",
       "    </tr>\n",
       "    <tr>\n",
       "      <td>1</td>\n",
       "      <td>2</td>\n",
       "      <td>Neymar Jr</td>\n",
       "      <td>26</td>\n",
       "      <td>south america</td>\n",
       "      <td>2022</td>\n",
       "      <td>ST</td>\n",
       "      <td>right</td>\n",
       "      <td>5.0</td>\n",
       "      <td>92</td>\n",
       "      <td>93</td>\n",
       "      <td>5.0</td>\n",
       "    </tr>\n",
       "    <tr>\n",
       "      <td>2</td>\n",
       "      <td>4</td>\n",
       "      <td>K. De Bruyne</td>\n",
       "      <td>27</td>\n",
       "      <td>europe</td>\n",
       "      <td>2023</td>\n",
       "      <td>MF</td>\n",
       "      <td>right</td>\n",
       "      <td>4.0</td>\n",
       "      <td>91</td>\n",
       "      <td>92</td>\n",
       "      <td>4.0</td>\n",
       "    </tr>\n",
       "    <tr>\n",
       "      <td>3</td>\n",
       "      <td>5</td>\n",
       "      <td>E. Hazard</td>\n",
       "      <td>27</td>\n",
       "      <td>europe</td>\n",
       "      <td>2020</td>\n",
       "      <td>ST</td>\n",
       "      <td>right</td>\n",
       "      <td>4.0</td>\n",
       "      <td>91</td>\n",
       "      <td>91</td>\n",
       "      <td>4.0</td>\n",
       "    </tr>\n",
       "    <tr>\n",
       "      <td>4</td>\n",
       "      <td>6</td>\n",
       "      <td>L. Modrić</td>\n",
       "      <td>32</td>\n",
       "      <td>europe</td>\n",
       "      <td>2020</td>\n",
       "      <td>MF</td>\n",
       "      <td>right</td>\n",
       "      <td>4.0</td>\n",
       "      <td>91</td>\n",
       "      <td>91</td>\n",
       "      <td>4.0</td>\n",
       "    </tr>\n",
       "  </tbody>\n",
       "</table>\n",
       "</div>"
      ],
      "text/plain": [
       "   id               name  age      continent contract_until position  \\\n",
       "0   1  Cristiano Ronaldo   33         europe           2022       ST   \n",
       "1   2          Neymar Jr   26  south america           2022       ST   \n",
       "2   4       K. De Bruyne   27         europe           2023       MF   \n",
       "3   5          E. Hazard   27         europe           2020       ST   \n",
       "4   6          L. Modrić   32         europe           2020       MF   \n",
       "\n",
       "  prefer_foot  reputation  stat_overall  stat_potential  stat_skill_moves  \n",
       "0       right         5.0            94              94               5.0  \n",
       "1       right         5.0            92              93               5.0  \n",
       "2       right         4.0            91              92               4.0  \n",
       "3       right         4.0            91              91               4.0  \n",
       "4       right         4.0            91              91               4.0  "
      ]
     },
     "execution_count": 4,
     "metadata": {},
     "output_type": "execute_result"
    }
   ],
   "source": [
    "# FIFA_test.csv 데이터를 불러와서 raw_test 라는 변수에 할당합니다.\n",
    "raw_test = pd.read_csv(\"data/FIFA_test.csv\") \n",
    "\n",
    "print(raw_test.shape) # raw_test 데이터의 row, column 갯수를 출력합니다.\n",
    "raw_test.head() # raw_test 데이터의 상위 5개 데이터를 출력합니다."
   ]
  },
  {
   "cell_type": "markdown",
   "metadata": {},
   "source": [
    "test 데이터에는 value 컬럼이 없다는 것을 확인할 수 있습니다."
   ]
  },
  {
   "cell_type": "markdown",
   "metadata": {},
   "source": [
    "---"
   ]
  },
  {
   "cell_type": "markdown",
   "metadata": {},
   "source": [
    "## 데이터 확인하기"
   ]
  },
  {
   "cell_type": "code",
   "execution_count": 5,
   "metadata": {},
   "outputs": [],
   "source": [
    "# raw_train 데이터를 카피하여 train 이라는 변수에 할당합니다.\n",
    "train = raw_train.copy()"
   ]
  },
  {
   "cell_type": "code",
   "execution_count": 6,
   "metadata": {},
   "outputs": [
    {
     "data": {
      "text/plain": [
       "id                  0\n",
       "name                0\n",
       "age                 0\n",
       "continent           0\n",
       "contract_until      0\n",
       "position            0\n",
       "prefer_foot         0\n",
       "reputation          0\n",
       "stat_overall        0\n",
       "stat_potential      0\n",
       "stat_skill_moves    0\n",
       "value               0\n",
       "dtype: int64"
      ]
     },
     "execution_count": 6,
     "metadata": {},
     "output_type": "execute_result"
    }
   ],
   "source": [
    "# train 데이터에 결측치가 있는지 확인합니다.\n",
    "train.isnull().sum()"
   ]
  },
  {
   "cell_type": "markdown",
   "metadata": {},
   "source": [
    "train 데이터에는 결측치가 없다는 것을 확인할 수 있습니다."
   ]
  },
  {
   "cell_type": "code",
   "execution_count": 7,
   "metadata": {},
   "outputs": [],
   "source": [
    "# raw_test 데이터를 카피하여 test 이라는 변수에 할당합니다.\n",
    "test = raw_test.copy()"
   ]
  },
  {
   "cell_type": "code",
   "execution_count": 8,
   "metadata": {},
   "outputs": [
    {
     "data": {
      "text/plain": [
       "id                  0\n",
       "name                0\n",
       "age                 0\n",
       "continent           0\n",
       "contract_until      0\n",
       "position            0\n",
       "prefer_foot         0\n",
       "reputation          0\n",
       "stat_overall        0\n",
       "stat_potential      0\n",
       "stat_skill_moves    0\n",
       "dtype: int64"
      ]
     },
     "execution_count": 8,
     "metadata": {},
     "output_type": "execute_result"
    }
   ],
   "source": [
    "# test 데이터에 결측치가 있는지 확인 합니다.\n",
    "test.isnull().sum()"
   ]
  },
  {
   "cell_type": "markdown",
   "metadata": {},
   "source": [
    "test 데이터에도 결측치가 없다는 것을 확인할 수 있습니다."
   ]
  },
  {
   "cell_type": "code",
   "execution_count": 9,
   "metadata": {},
   "outputs": [
    {
     "data": {
      "text/plain": [
       "id                    int64\n",
       "name                 object\n",
       "age                   int64\n",
       "continent            object\n",
       "contract_until       object\n",
       "position             object\n",
       "prefer_foot          object\n",
       "reputation          float64\n",
       "stat_overall          int64\n",
       "stat_potential        int64\n",
       "stat_skill_moves    float64\n",
       "value               float64\n",
       "dtype: object"
      ]
     },
     "execution_count": 9,
     "metadata": {},
     "output_type": "execute_result"
    }
   ],
   "source": [
    "# train 데이터의 각 컬럼별 type 을 확인합니다.\n",
    "train.dtypes"
   ]
  },
  {
   "cell_type": "markdown",
   "metadata": {},
   "source": [
    "계약기간(contract_until)의 경우, 연도임에도 문자열(object)로 type 이 되어 있습니다."
   ]
  },
  {
   "cell_type": "code",
   "execution_count": 10,
   "metadata": {},
   "outputs": [
    {
     "data": {
      "text/plain": [
       "id                    int64\n",
       "name                 object\n",
       "age                   int64\n",
       "continent            object\n",
       "contract_until       object\n",
       "position             object\n",
       "prefer_foot          object\n",
       "reputation          float64\n",
       "stat_overall          int64\n",
       "stat_potential        int64\n",
       "stat_skill_moves    float64\n",
       "dtype: object"
      ]
     },
     "execution_count": 10,
     "metadata": {},
     "output_type": "execute_result"
    }
   ],
   "source": [
    "# test 데이터의 각 컬럼별 type 을 확인합니다.\n",
    "test.dtypes"
   ]
  },
  {
   "cell_type": "markdown",
   "metadata": {},
   "source": [
    "test 데이터도 계약기간(contract_until)이, 연도임에도 문자열(object)로 type 이 되어 있습니다."
   ]
  },
  {
   "cell_type": "markdown",
   "metadata": {},
   "source": [
    "---"
   ]
  },
  {
   "cell_type": "markdown",
   "metadata": {},
   "source": [
    "## Data preprocessing"
   ]
  },
  {
   "cell_type": "code",
   "execution_count": 11,
   "metadata": {},
   "outputs": [
    {
     "data": {
      "text/plain": [
       "2019            2366\n",
       "2021            2308\n",
       "2020            2041\n",
       "2022             761\n",
       "2023             506\n",
       "Jun 30, 2019     501\n",
       "2018             327\n",
       "Dec 31, 2018      64\n",
       "May 31, 2019      19\n",
       "2024              12\n",
       "Jan 31, 2019      10\n",
       "Jun 30, 2020       9\n",
       "2025               3\n",
       "Jan 1, 2019        2\n",
       "2026               1\n",
       "Jan 12, 2019       1\n",
       "May 31, 2020       1\n",
       "Name: contract_until, dtype: int64"
      ]
     },
     "execution_count": 11,
     "metadata": {},
     "output_type": "execute_result"
    }
   ],
   "source": [
    "# contract_until 컬럼의 종류와 종류별 갯수를 출력합니다.\n",
    "train[\"contract_until\"].value_counts()"
   ]
  },
  {
   "cell_type": "code",
   "execution_count": 12,
   "metadata": {},
   "outputs": [
    {
     "data": {
      "text/plain": [
       "2019-01-01    2368\n",
       "2021-01-01    2308\n",
       "2020-01-01    2041\n",
       "2022-01-01     761\n",
       "2023-01-01     506\n",
       "2019-06-30     501\n",
       "2018-01-01     327\n",
       "2018-12-31      64\n",
       "2019-05-31      19\n",
       "2024-01-01      12\n",
       "2019-01-31      10\n",
       "2020-06-30       9\n",
       "2025-01-01       3\n",
       "2020-05-31       1\n",
       "2026-01-01       1\n",
       "2019-01-12       1\n",
       "Name: contract_until(clean), dtype: int64"
      ]
     },
     "execution_count": 12,
     "metadata": {},
     "output_type": "execute_result"
    }
   ],
   "source": [
    "# contract_until 컬럼의 표기를 통일화 시키기 위해 datetime type 으로 변경하고\n",
    "# contract_until(clean) 이라는 신규 컬럼에 할당합니다.\n",
    "train[\"contract_until(clean)\"] = pd.to_datetime(train[\"contract_until\"])\n",
    "\n",
    "# contract_until(clean) 컬럼의 종류별 갯수를 출력합니다.\n",
    "train[\"contract_until(clean)\"].value_counts()"
   ]
  },
  {
   "cell_type": "code",
   "execution_count": 13,
   "metadata": {},
   "outputs": [
    {
     "name": "stdout",
     "output_type": "stream",
     "text": [
      "(8932, 13)\n"
     ]
    },
    {
     "data": {
      "text/html": [
       "<div>\n",
       "<style scoped>\n",
       "    .dataframe tbody tr th:only-of-type {\n",
       "        vertical-align: middle;\n",
       "    }\n",
       "\n",
       "    .dataframe tbody tr th {\n",
       "        vertical-align: top;\n",
       "    }\n",
       "\n",
       "    .dataframe thead th {\n",
       "        text-align: right;\n",
       "    }\n",
       "</style>\n",
       "<table border=\"1\" class=\"dataframe\">\n",
       "  <thead>\n",
       "    <tr style=\"text-align: right;\">\n",
       "      <th></th>\n",
       "      <th>id</th>\n",
       "      <th>name</th>\n",
       "      <th>age</th>\n",
       "      <th>continent</th>\n",
       "      <th>contract_until</th>\n",
       "      <th>position</th>\n",
       "      <th>prefer_foot</th>\n",
       "      <th>reputation</th>\n",
       "      <th>stat_overall</th>\n",
       "      <th>stat_potential</th>\n",
       "      <th>stat_skill_moves</th>\n",
       "      <th>value</th>\n",
       "      <th>contract_until(clean)</th>\n",
       "    </tr>\n",
       "  </thead>\n",
       "  <tbody>\n",
       "    <tr>\n",
       "      <td>0</td>\n",
       "      <td>0</td>\n",
       "      <td>L. Messi</td>\n",
       "      <td>31</td>\n",
       "      <td>south america</td>\n",
       "      <td>2021</td>\n",
       "      <td>ST</td>\n",
       "      <td>left</td>\n",
       "      <td>5.0</td>\n",
       "      <td>94</td>\n",
       "      <td>94</td>\n",
       "      <td>4.0</td>\n",
       "      <td>110500000.0</td>\n",
       "      <td>2021-01-01</td>\n",
       "    </tr>\n",
       "    <tr>\n",
       "      <td>1</td>\n",
       "      <td>3</td>\n",
       "      <td>De Gea</td>\n",
       "      <td>27</td>\n",
       "      <td>europe</td>\n",
       "      <td>2020</td>\n",
       "      <td>GK</td>\n",
       "      <td>right</td>\n",
       "      <td>4.0</td>\n",
       "      <td>91</td>\n",
       "      <td>93</td>\n",
       "      <td>1.0</td>\n",
       "      <td>72000000.0</td>\n",
       "      <td>2020-01-01</td>\n",
       "    </tr>\n",
       "    <tr>\n",
       "      <td>2</td>\n",
       "      <td>7</td>\n",
       "      <td>L. Suárez</td>\n",
       "      <td>31</td>\n",
       "      <td>south america</td>\n",
       "      <td>2021</td>\n",
       "      <td>ST</td>\n",
       "      <td>right</td>\n",
       "      <td>5.0</td>\n",
       "      <td>91</td>\n",
       "      <td>91</td>\n",
       "      <td>3.0</td>\n",
       "      <td>80000000.0</td>\n",
       "      <td>2021-01-01</td>\n",
       "    </tr>\n",
       "    <tr>\n",
       "      <td>3</td>\n",
       "      <td>8</td>\n",
       "      <td>Sergio Ramos</td>\n",
       "      <td>32</td>\n",
       "      <td>europe</td>\n",
       "      <td>2020</td>\n",
       "      <td>DF</td>\n",
       "      <td>right</td>\n",
       "      <td>4.0</td>\n",
       "      <td>91</td>\n",
       "      <td>91</td>\n",
       "      <td>3.0</td>\n",
       "      <td>51000000.0</td>\n",
       "      <td>2020-01-01</td>\n",
       "    </tr>\n",
       "    <tr>\n",
       "      <td>4</td>\n",
       "      <td>9</td>\n",
       "      <td>J. Oblak</td>\n",
       "      <td>25</td>\n",
       "      <td>europe</td>\n",
       "      <td>2021</td>\n",
       "      <td>GK</td>\n",
       "      <td>right</td>\n",
       "      <td>3.0</td>\n",
       "      <td>90</td>\n",
       "      <td>93</td>\n",
       "      <td>1.0</td>\n",
       "      <td>68000000.0</td>\n",
       "      <td>2021-01-01</td>\n",
       "    </tr>\n",
       "  </tbody>\n",
       "</table>\n",
       "</div>"
      ],
      "text/plain": [
       "   id          name  age      continent contract_until position prefer_foot  \\\n",
       "0   0      L. Messi   31  south america           2021       ST        left   \n",
       "1   3        De Gea   27         europe           2020       GK       right   \n",
       "2   7     L. Suárez   31  south america           2021       ST       right   \n",
       "3   8  Sergio Ramos   32         europe           2020       DF       right   \n",
       "4   9      J. Oblak   25         europe           2021       GK       right   \n",
       "\n",
       "   reputation  stat_overall  stat_potential  stat_skill_moves        value  \\\n",
       "0         5.0            94              94               4.0  110500000.0   \n",
       "1         4.0            91              93               1.0   72000000.0   \n",
       "2         5.0            91              91               3.0   80000000.0   \n",
       "3         4.0            91              91               3.0   51000000.0   \n",
       "4         3.0            90              93               1.0   68000000.0   \n",
       "\n",
       "  contract_until(clean)  \n",
       "0            2021-01-01  \n",
       "1            2020-01-01  \n",
       "2            2021-01-01  \n",
       "3            2020-01-01  \n",
       "4            2021-01-01  "
      ]
     },
     "execution_count": 13,
     "metadata": {},
     "output_type": "execute_result"
    }
   ],
   "source": [
    "print(train.shape) # train 데이터의 row, column 갯수를 출력합니다.\n",
    "train.head() # train 데이터의 상위 5개 자료를 출력합니다."
   ]
  },
  {
   "cell_type": "markdown",
   "metadata": {},
   "source": [
    "contraint_until(clean) 컬럼이 생성될 것을 확인 할 수 있습니다."
   ]
  },
  {
   "cell_type": "code",
   "execution_count": 14,
   "metadata": {},
   "outputs": [
    {
     "name": "stdout",
     "output_type": "stream",
     "text": [
      "(8932, 16)\n"
     ]
    },
    {
     "data": {
      "text/html": [
       "<div>\n",
       "<style scoped>\n",
       "    .dataframe tbody tr th:only-of-type {\n",
       "        vertical-align: middle;\n",
       "    }\n",
       "\n",
       "    .dataframe tbody tr th {\n",
       "        vertical-align: top;\n",
       "    }\n",
       "\n",
       "    .dataframe thead th {\n",
       "        text-align: right;\n",
       "    }\n",
       "</style>\n",
       "<table border=\"1\" class=\"dataframe\">\n",
       "  <thead>\n",
       "    <tr style=\"text-align: right;\">\n",
       "      <th></th>\n",
       "      <th>contract_until(clean)</th>\n",
       "      <th>contract_until(year)</th>\n",
       "      <th>contract_until(month)</th>\n",
       "      <th>contract_until(day)</th>\n",
       "    </tr>\n",
       "  </thead>\n",
       "  <tbody>\n",
       "    <tr>\n",
       "      <td>0</td>\n",
       "      <td>2021-01-01</td>\n",
       "      <td>2021</td>\n",
       "      <td>1</td>\n",
       "      <td>1</td>\n",
       "    </tr>\n",
       "    <tr>\n",
       "      <td>1</td>\n",
       "      <td>2020-01-01</td>\n",
       "      <td>2020</td>\n",
       "      <td>1</td>\n",
       "      <td>1</td>\n",
       "    </tr>\n",
       "    <tr>\n",
       "      <td>2</td>\n",
       "      <td>2021-01-01</td>\n",
       "      <td>2021</td>\n",
       "      <td>1</td>\n",
       "      <td>1</td>\n",
       "    </tr>\n",
       "    <tr>\n",
       "      <td>3</td>\n",
       "      <td>2020-01-01</td>\n",
       "      <td>2020</td>\n",
       "      <td>1</td>\n",
       "      <td>1</td>\n",
       "    </tr>\n",
       "    <tr>\n",
       "      <td>4</td>\n",
       "      <td>2021-01-01</td>\n",
       "      <td>2021</td>\n",
       "      <td>1</td>\n",
       "      <td>1</td>\n",
       "    </tr>\n",
       "  </tbody>\n",
       "</table>\n",
       "</div>"
      ],
      "text/plain": [
       "  contract_until(clean)  contract_until(year)  contract_until(month)  \\\n",
       "0            2021-01-01                  2021                      1   \n",
       "1            2020-01-01                  2020                      1   \n",
       "2            2021-01-01                  2021                      1   \n",
       "3            2020-01-01                  2020                      1   \n",
       "4            2021-01-01                  2021                      1   \n",
       "\n",
       "   contract_until(day)  \n",
       "0                    1  \n",
       "1                    1  \n",
       "2                    1  \n",
       "3                    1  \n",
       "4                    1  "
      ]
     },
     "execution_count": 14,
     "metadata": {},
     "output_type": "execute_result"
    }
   ],
   "source": [
    "# contract_until(clean) 컬럼을 dt 옵션을 사용하여 연/월/일로 구분 합니다.\n",
    "\n",
    "train[\"contract_until(year)\"] = train[\"contract_until(clean)\"].dt.year\n",
    "train[\"contract_until(month)\"] = train[\"contract_until(clean)\"].dt.month\n",
    "train[\"contract_until(day)\"] = train[\"contract_until(clean)\"].dt.day\n",
    "\n",
    "print(train.shape) # train 데이터의 row, column 갯수를 출력합니다.\n",
    "\n",
    "# contract_until(clean) 과 연관된 컬럼의 상위 5개 자료를 출력합니다.\n",
    "train[[\"contract_until(clean)\", \"contract_until(year)\", \"contract_until(month)\", \"contract_until(day)\"]].head()"
   ]
  },
  {
   "cell_type": "code",
   "execution_count": 15,
   "metadata": {},
   "outputs": [
    {
     "name": "stdout",
     "output_type": "stream",
     "text": [
      "(3828, 15)\n"
     ]
    },
    {
     "data": {
      "text/html": [
       "<div>\n",
       "<style scoped>\n",
       "    .dataframe tbody tr th:only-of-type {\n",
       "        vertical-align: middle;\n",
       "    }\n",
       "\n",
       "    .dataframe tbody tr th {\n",
       "        vertical-align: top;\n",
       "    }\n",
       "\n",
       "    .dataframe thead th {\n",
       "        text-align: right;\n",
       "    }\n",
       "</style>\n",
       "<table border=\"1\" class=\"dataframe\">\n",
       "  <thead>\n",
       "    <tr style=\"text-align: right;\">\n",
       "      <th></th>\n",
       "      <th>contract_until(clean)</th>\n",
       "      <th>contract_until(year)</th>\n",
       "      <th>contract_until(month)</th>\n",
       "      <th>contract_until(day)</th>\n",
       "    </tr>\n",
       "  </thead>\n",
       "  <tbody>\n",
       "    <tr>\n",
       "      <td>0</td>\n",
       "      <td>2022-01-01</td>\n",
       "      <td>2022</td>\n",
       "      <td>1</td>\n",
       "      <td>1</td>\n",
       "    </tr>\n",
       "    <tr>\n",
       "      <td>1</td>\n",
       "      <td>2022-01-01</td>\n",
       "      <td>2022</td>\n",
       "      <td>1</td>\n",
       "      <td>1</td>\n",
       "    </tr>\n",
       "    <tr>\n",
       "      <td>2</td>\n",
       "      <td>2023-01-01</td>\n",
       "      <td>2023</td>\n",
       "      <td>1</td>\n",
       "      <td>1</td>\n",
       "    </tr>\n",
       "    <tr>\n",
       "      <td>3</td>\n",
       "      <td>2020-01-01</td>\n",
       "      <td>2020</td>\n",
       "      <td>1</td>\n",
       "      <td>1</td>\n",
       "    </tr>\n",
       "    <tr>\n",
       "      <td>4</td>\n",
       "      <td>2020-01-01</td>\n",
       "      <td>2020</td>\n",
       "      <td>1</td>\n",
       "      <td>1</td>\n",
       "    </tr>\n",
       "  </tbody>\n",
       "</table>\n",
       "</div>"
      ],
      "text/plain": [
       "  contract_until(clean)  contract_until(year)  contract_until(month)  \\\n",
       "0            2022-01-01                  2022                      1   \n",
       "1            2022-01-01                  2022                      1   \n",
       "2            2023-01-01                  2023                      1   \n",
       "3            2020-01-01                  2020                      1   \n",
       "4            2020-01-01                  2020                      1   \n",
       "\n",
       "   contract_until(day)  \n",
       "0                    1  \n",
       "1                    1  \n",
       "2                    1  \n",
       "3                    1  \n",
       "4                    1  "
      ]
     },
     "execution_count": 15,
     "metadata": {},
     "output_type": "execute_result"
    }
   ],
   "source": [
    "# test 데이터의 contract_until 컬럼도 train 데이터와 동일하게 처리 해줍니다.\n",
    "test[\"contract_until\"].value_counts()\n",
    "\n",
    "test[\"contract_until(clean)\"] = pd.to_datetime(test[\"contract_until\"])\n",
    "\n",
    "test[\"contract_until(clean)\"].value_counts()\n",
    "\n",
    "test[\"contract_until(year)\"] = test[\"contract_until(clean)\"].dt.year\n",
    "test[\"contract_until(month)\"] = test[\"contract_until(clean)\"].dt.month\n",
    "test[\"contract_until(day)\"] = test[\"contract_until(clean)\"].dt.day\n",
    "\n",
    "print(test.shape) # train 데이터의 row, column 갯수를 출력합니다.\n",
    "\n",
    "# contract_until(clean) 과 연관된 컬럼의 상위 5개 자료를 출력합니다.\n",
    "test[[\"contract_until(clean)\", \"contract_until(year)\", \"contract_until(month)\", \"contract_until(day)\"]].head()"
   ]
  },
  {
   "cell_type": "markdown",
   "metadata": {},
   "source": [
    "---"
   ]
  },
  {
   "cell_type": "markdown",
   "metadata": {},
   "source": [
    "## E.D.A"
   ]
  },
  {
   "cell_type": "markdown",
   "metadata": {},
   "source": [
    "### age 컬럼"
   ]
  },
  {
   "cell_type": "code",
   "execution_count": 16,
   "metadata": {},
   "outputs": [
    {
     "data": {
      "text/plain": [
       "<matplotlib.axes._subplots.AxesSubplot at 0x1a1a3d09b0>"
      ]
     },
     "execution_count": 16,
     "metadata": {},
     "output_type": "execute_result"
    },
    {
     "data": {
      "image/png": "[encoded data removed]",
      "text/plain": [
       "<Figure size 1152x576 with 2 Axes>"
      ]
     },
     "metadata": {
      "image/png": {
       "height": 484,
       "width": 984
      },
      "needs_background": "light"
     },
     "output_type": "display_data"
    }
   ],
   "source": [
    "# 차트를 여러개 그리기 위한 설정을 합니다.\n",
    "figure, ((ax1), (ax2)) = plt.subplots(nrows = 2, ncols = 1)\n",
    "figure.set_size_inches(16, 8) # 차트 크기를 가로 16인치, 세로 8인치로 설정 합니다.\n",
    "\n",
    "# countplot 으로 연령대별 빈도를 시각화 하고, ax1 에 설정합니다.\n",
    "sns.countplot(data = train, x = \"age\", ax = ax1)\n",
    "\n",
    "# barplot 으로 연령대별 이적료를 시각화 하고, ax2 에 설정합니다.\n",
    "sns.barplot(data = train, x = \"age\", y = \"value\", ax = ax2)"
   ]
  },
  {
   "cell_type": "markdown",
   "metadata": {},
   "source": [
    "20 ~ 28세 사이의 선수가 많으며 이적료는 23 ~ 32세 사이의 선수 이적료가 높은 것을 확인 할 수 있습니다.\n",
    "\n",
    "30 ~ 32세 선수의 경우 선수 숫자 대비 이적료가 높은 것으로 볼때, 실력이 있는 선수들이 많은 것으로 추측할 수 있습니다.\n",
    "\n",
    "40대의 경우에는 편차가 굉장히 크게 나타나는대 40대 이상인 프로 축구 선수가 흔하지 않으므로 모수가 적어서 나타나는 현상이라고 추측할 수 있습니다."
   ]
  },
  {
   "cell_type": "code",
   "execution_count": 17,
   "metadata": {},
   "outputs": [
    {
     "data": {
      "text/html": [
       "<div>\n",
       "<style scoped>\n",
       "    .dataframe tbody tr th:only-of-type {\n",
       "        vertical-align: middle;\n",
       "    }\n",
       "\n",
       "    .dataframe tbody tr th {\n",
       "        vertical-align: top;\n",
       "    }\n",
       "\n",
       "    .dataframe thead th {\n",
       "        text-align: right;\n",
       "    }\n",
       "</style>\n",
       "<table border=\"1\" class=\"dataframe\">\n",
       "  <thead>\n",
       "    <tr style=\"text-align: right;\">\n",
       "      <th></th>\n",
       "      <th>id</th>\n",
       "      <th>name</th>\n",
       "      <th>age</th>\n",
       "      <th>continent</th>\n",
       "      <th>contract_until</th>\n",
       "      <th>position</th>\n",
       "      <th>prefer_foot</th>\n",
       "      <th>reputation</th>\n",
       "      <th>stat_overall</th>\n",
       "      <th>stat_potential</th>\n",
       "      <th>stat_skill_moves</th>\n",
       "      <th>value</th>\n",
       "      <th>contract_until(clean)</th>\n",
       "      <th>contract_until(year)</th>\n",
       "      <th>contract_until(month)</th>\n",
       "      <th>contract_until(day)</th>\n",
       "    </tr>\n",
       "  </thead>\n",
       "  <tbody>\n",
       "    <tr>\n",
       "      <td>23</td>\n",
       "      <td>41</td>\n",
       "      <td>G. Buffon</td>\n",
       "      <td>40</td>\n",
       "      <td>europe</td>\n",
       "      <td>2019</td>\n",
       "      <td>GK</td>\n",
       "      <td>right</td>\n",
       "      <td>4.0</td>\n",
       "      <td>88</td>\n",
       "      <td>88</td>\n",
       "      <td>1.0</td>\n",
       "      <td>4000000.0</td>\n",
       "      <td>2019-01-01</td>\n",
       "      <td>2019</td>\n",
       "      <td>1</td>\n",
       "      <td>1</td>\n",
       "    </tr>\n",
       "    <tr>\n",
       "      <td>1613</td>\n",
       "      <td>2735</td>\n",
       "      <td>S. Bertoli</td>\n",
       "      <td>40</td>\n",
       "      <td>south america</td>\n",
       "      <td>2019</td>\n",
       "      <td>GK</td>\n",
       "      <td>right</td>\n",
       "      <td>1.0</td>\n",
       "      <td>73</td>\n",
       "      <td>73</td>\n",
       "      <td>1.0</td>\n",
       "      <td>270000.0</td>\n",
       "      <td>2019-01-01</td>\n",
       "      <td>2019</td>\n",
       "      <td>1</td>\n",
       "      <td>1</td>\n",
       "    </tr>\n",
       "    <tr>\n",
       "      <td>5168</td>\n",
       "      <td>8995</td>\n",
       "      <td>B. Castillo</td>\n",
       "      <td>40</td>\n",
       "      <td>south america</td>\n",
       "      <td>2021</td>\n",
       "      <td>GK</td>\n",
       "      <td>right</td>\n",
       "      <td>1.0</td>\n",
       "      <td>66</td>\n",
       "      <td>66</td>\n",
       "      <td>1.0</td>\n",
       "      <td>40000.0</td>\n",
       "      <td>2021-01-01</td>\n",
       "      <td>2021</td>\n",
       "      <td>1</td>\n",
       "      <td>1</td>\n",
       "    </tr>\n",
       "  </tbody>\n",
       "</table>\n",
       "</div>"
      ],
      "text/plain": [
       "        id         name  age      continent contract_until position  \\\n",
       "23      41    G. Buffon   40         europe           2019       GK   \n",
       "1613  2735   S. Bertoli   40  south america           2019       GK   \n",
       "5168  8995  B. Castillo   40  south america           2021       GK   \n",
       "\n",
       "     prefer_foot  reputation  stat_overall  stat_potential  stat_skill_moves  \\\n",
       "23         right         4.0            88              88               1.0   \n",
       "1613       right         1.0            73              73               1.0   \n",
       "5168       right         1.0            66              66               1.0   \n",
       "\n",
       "          value contract_until(clean)  contract_until(year)  \\\n",
       "23    4000000.0            2019-01-01                  2019   \n",
       "1613   270000.0            2019-01-01                  2019   \n",
       "5168    40000.0            2021-01-01                  2021   \n",
       "\n",
       "      contract_until(month)  contract_until(day)  \n",
       "23                        1                    1  \n",
       "1613                      1                    1  \n",
       "5168                      1                    1  "
      ]
     },
     "execution_count": 17,
     "metadata": {},
     "output_type": "execute_result"
    }
   ],
   "source": [
    "# 연령이 40세인 데이터를 확인 합니다.\n",
    "train[train[\"age\"] == 40]"
   ]
  },
  {
   "cell_type": "markdown",
   "metadata": {},
   "source": [
    "확인 결과, 연령이 40세인 축구 선수는 3명 뿐이며 이적료가 가장 높은 선수(Buffon)와 가장 적은 선수(Castillo)의 차이가\n",
    "무려 100배나 차이 나는 것을 확인 할 수 있습니다."
   ]
  },
  {
   "cell_type": "markdown",
   "metadata": {},
   "source": [
    "### continent 컬럼"
   ]
  },
  {
   "cell_type": "code",
   "execution_count": 18,
   "metadata": {},
   "outputs": [
    {
     "data": {
      "text/plain": [
       "<matplotlib.axes._subplots.AxesSubplot at 0x1a1b8d5978>"
      ]
     },
     "execution_count": 18,
     "metadata": {},
     "output_type": "execute_result"
    },
    {
     "data": {
      "image/png": "[encoded data removed]",
      "text/plain": [
       "<Figure size 1152x576 with 2 Axes>"
      ]
     },
     "metadata": {
      "image/png": {
       "height": 484,
       "width": 962
      },
      "needs_background": "light"
     },
     "output_type": "display_data"
    }
   ],
   "source": [
    "# 차트를 여러개 그리기 위한 설정을 합니다.\n",
    "figure, ((ax1, ax2)) = plt.subplots(nrows = 1, ncols = 2)\n",
    "figure.set_size_inches(16, 8) # 차트 크기를 가로 16인치, 세로 8인치로 설정 합니다.\n",
    "\n",
    "# countplot 으로 대륙별 빈도를 시각화 하고, ax1 에 설정합니다.\n",
    "sns.countplot(data = train, x = \"continent\", ax = ax1)\n",
    "\n",
    "# barplot 으로 대륙별 이적료를 시각화 하고, ax2 에 설정합니다.\n",
    "sns.barplot(data = train, x = \"continent\", y = \"value\", ax = ax2)"
   ]
  },
  {
   "cell_type": "markdown",
   "metadata": {},
   "source": [
    "유럽 > 남미 > 아시아 > 아프리카 > 오세아니아 대륙 순서로 축구선수가 많은 것을 확인 할 수 있습니다.\n",
    "\n",
    "남미, 아프리카 대륙 선수들이 축구선수 빈도에 비해 높은 이적료를 나타내고 있으며 이는 남미나 아프리카 선수 중에 실력이 있는(혹은 잠재력이 높은) 선수들이 많을 것이라는 추측을 할 수 있습니다."
   ]
  },
  {
   "cell_type": "markdown",
   "metadata": {},
   "source": [
    "### contract 컬럼"
   ]
  },
  {
   "cell_type": "code",
   "execution_count": 19,
   "metadata": {},
   "outputs": [
    {
     "data": {
      "text/plain": [
       "<matplotlib.axes._subplots.AxesSubplot at 0x1a19570ef0>"
      ]
     },
     "execution_count": 19,
     "metadata": {},
     "output_type": "execute_result"
    },
    {
     "data": {
      "image/png": "[encoded data removed]",
      "text/plain": [
       "<Figure size 1152x576 with 4 Axes>"
      ]
     },
     "metadata": {
      "image/png": {
       "height": 496,
       "width": 994
      },
      "needs_background": "light"
     },
     "output_type": "display_data"
    }
   ],
   "source": [
    "# 차트를 여러개 표현하기 위한 설정을 합니다.\n",
    "figure, ((ax1, ax2), (ax3, ax4)) = plt.subplots(nrows = 2, ncols = 2)\n",
    "figure.set_size_inches(16, 8) # 차트 크기를 가로 16인치, 세로 8인치로 고정합니다.\n",
    "\n",
    "# barplot 으로 계약기간(연도)별 이적료를 시각화 하고, ax1 에 설정합니다.\n",
    "sns.barplot(data = train, x = \"contract_until(year)\", y = \"value\", ax = ax1)\n",
    "\n",
    "# barplot 으로 계약기간(월)별 이적료를 시각화 하고, ax1 에 설정합니다.\n",
    "sns.barplot(data = train, x = \"contract_until(month)\", y = \"value\", ax = ax2)\n",
    "\n",
    "# barplot 으로 계약기간(일)별 이적료를 시각화 하고, ax1 에 설정합니다.\n",
    "sns.barplot(data = train, x = \"contract_until(day)\", y = \"value\", ax = ax3)"
   ]
  },
  {
   "cell_type": "markdown",
   "metadata": {},
   "source": [
    "연도에 따른 연관성이 어느정도 있으나, 장기 계약(2024년 이후)에는 모수에 따른 편차가 있음을 알 수 있습니다.\n",
    "\n",
    "월이나 일별 계약기간의 경우, 연관성이 나타나지 않기 때문에 이적료에 크게 영향을 미치지 않을 것이라고 판단할 수 있습니다."
   ]
  },
  {
   "cell_type": "markdown",
   "metadata": {},
   "source": [
    "### position 컬럼"
   ]
  },
  {
   "cell_type": "code",
   "execution_count": 20,
   "metadata": {},
   "outputs": [
    {
     "data": {
      "text/plain": [
       "MF    3428\n",
       "DF    2791\n",
       "ST    1705\n",
       "GK    1008\n",
       "Name: position, dtype: int64"
      ]
     },
     "execution_count": 20,
     "metadata": {},
     "output_type": "execute_result"
    }
   ],
   "source": [
    "train[\"position\"].value_counts()"
   ]
  },
  {
   "cell_type": "code",
   "execution_count": 21,
   "metadata": {},
   "outputs": [
    {
     "data": {
      "text/plain": [
       "<matplotlib.axes._subplots.AxesSubplot at 0x1a19711a58>"
      ]
     },
     "execution_count": 21,
     "metadata": {},
     "output_type": "execute_result"
    },
    {
     "data": {
      "image/png": "[encoded data removed]",
      "text/plain": [
       "<Figure size 1152x576 with 2 Axes>"
      ]
     },
     "metadata": {
      "image/png": {
       "height": 484,
       "width": 962
      },
      "needs_background": "light"
     },
     "output_type": "display_data"
    }
   ],
   "source": [
    "# 차트를 여러개 표현하기 위한 설정을 합니다.\n",
    "figure, ((ax1, ax2)) = plt.subplots(nrows = 1, ncols = 2)\n",
    "figure.set_size_inches(16, 8) # 차트 크기를 가로 16인치, 세로 8인치로 고정합니다.\n",
    "\n",
    "# countplot 으로 포지션별 빈도를 시각화 하고, ax1 에 설정합니다.\n",
    "sns.countplot(data = train, x = \"position\", ax = ax1)\n",
    "\n",
    "# barplot 으로 포지션별 이적료를 시각화 하고, ax2 에 설정합니다.\n",
    "sns.barplot(data = train, x = \"position\", y = \"value\", ax = ax2)"
   ]
  },
  {
   "cell_type": "markdown",
   "metadata": {},
   "source": [
    "포지션의 경우 MF > DF > ST > GK 순으로 선수 숫자가 많지만 포지션에 따른 이적료는 ST 가 가장 높은 것을 확인 할 수 있습니다.\n",
    "\n",
    "따라서, ST 포지션에 실력이 있는(혹은 잠재력이 높은) 선수가 많이 있을 것이라는 추측을 할 수 있습니다."
   ]
  },
  {
   "cell_type": "markdown",
   "metadata": {},
   "source": [
    "### prefer_foot 컬럼"
   ]
  },
  {
   "cell_type": "code",
   "execution_count": 22,
   "metadata": {},
   "outputs": [
    {
     "data": {
      "text/plain": [
       "<matplotlib.axes._subplots.AxesSubplot at 0x1a19a8bba8>"
      ]
     },
     "execution_count": 22,
     "metadata": {},
     "output_type": "execute_result"
    },
    {
     "data": {
      "image/png": "[encoded data removed]",
      "text/plain": [
       "<Figure size 1152x576 with 2 Axes>"
      ]
     },
     "metadata": {
      "image/png": {
       "height": 484,
       "width": 962
      },
      "needs_background": "light"
     },
     "output_type": "display_data"
    }
   ],
   "source": [
    "# 차트를 여러개 표현하기 위한 설정을 합니다.\n",
    "figure, ((ax1, ax2)) = plt.subplots(nrows = 1, ncols = 2)\n",
    "figure.set_size_inches(16, 8) # 차트 크기를 가로 16인치, 세로 8인치로 고정합니다.\n",
    "\n",
    "# countplot 으로 주축발 빈도를 시각화 하고, ax1 에 설정합니다.\n",
    "sns.countplot(data = train, x = \"prefer_foot\", ax = ax1)\n",
    "\n",
    "# barplot 으로 주축발별 이적료를 시각화 하고, ax2 에 설정합니다.\n",
    "sns.barplot(data = train, x = \"prefer_foot\", y = \"value\", ax = ax2)"
   ]
  },
  {
   "cell_type": "markdown",
   "metadata": {},
   "source": [
    "왼발잡이 선수 보다 오른발잡이 선수가 압도적으로 많지만 이적료는 비슷한 수준임을 알 수 있습니다.\n",
    "\n",
    "따라서, 왼발잡이 선수 중에 실력이 있는(혹은 잠재력이 높은) 선수가 많이 있을 것이라는 합리적인 추측을 할 수 있습니다."
   ]
  },
  {
   "cell_type": "markdown",
   "metadata": {},
   "source": [
    "### reputation 컬럼"
   ]
  },
  {
   "cell_type": "code",
   "execution_count": 23,
   "metadata": {},
   "outputs": [
    {
     "data": {
      "text/plain": [
       "1.0    8014\n",
       "2.0     706\n",
       "3.0     177\n",
       "4.0      31\n",
       "5.0       4\n",
       "Name: reputation, dtype: int64"
      ]
     },
     "execution_count": 23,
     "metadata": {},
     "output_type": "execute_result"
    }
   ],
   "source": [
    "train[\"reputation\"].value_counts()"
   ]
  },
  {
   "cell_type": "code",
   "execution_count": 24,
   "metadata": {},
   "outputs": [
    {
     "data": {
      "text/plain": [
       "<matplotlib.axes._subplots.AxesSubplot at 0x1a19b5ab38>"
      ]
     },
     "execution_count": 24,
     "metadata": {},
     "output_type": "execute_result"
    },
    {
     "data": {
      "image/png": "[encoded data removed]",
      "text/plain": [
       "<Figure size 1152x576 with 2 Axes>"
      ]
     },
     "metadata": {
      "image/png": {
       "height": 496,
       "width": 962
      },
      "needs_background": "light"
     },
     "output_type": "display_data"
    }
   ],
   "source": [
    "# 차트를 여러개 표현하기 위한 설정을 합니다.\n",
    "figure, ((ax1, ax2)) = plt.subplots(nrows = 1, ncols = 2)\n",
    "figure.set_size_inches(16, 8) # 차트 크기를 가로 16인치, 세로 8인치로 고정합니다.\n",
    "\n",
    "# countplot 으로 주축발 빈도를 시각화 하고, ax1 에 설정합니다.\n",
    "sns.countplot(data = train, x = \"reputation\", ax = ax1)\n",
    "\n",
    "# barplot 으로 주축발별 이적료를 시각화 하고, ax2 에 설정합니다.\n",
    "sns.barplot(data = train, x = \"reputation\", y = \"value\", ax = ax2)"
   ]
  },
  {
   "cell_type": "markdown",
   "metadata": {},
   "source": [
    "현재 데이터에는 대부분 유명도가 떨어지는 선수들이 있다는 것을 알 수 있으며, 유명도가 높을수록 이적료도 높아 진다는 것을 확인 할 수 있습니다."
   ]
  },
  {
   "cell_type": "markdown",
   "metadata": {},
   "source": [
    "### stat_overall 컬럼"
   ]
  },
  {
   "cell_type": "code",
   "execution_count": 25,
   "metadata": {},
   "outputs": [
    {
     "data": {
      "text/plain": [
       "<matplotlib.axes._subplots.AxesSubplot at 0x1a19c4f160>"
      ]
     },
     "execution_count": 25,
     "metadata": {},
     "output_type": "execute_result"
    },
    {
     "data": {
      "image/png": "[encoded data removed]",
      "text/plain": [
       "<Figure size 1152x576 with 2 Axes>"
      ]
     },
     "metadata": {
      "image/png": {
       "height": 484,
       "width": 954
      },
      "needs_background": "light"
     },
     "output_type": "display_data"
    }
   ],
   "source": [
    "# 차트를 여러개 그리기 위한 설정을 합니다.\n",
    "figure, ((ax1), (ax2)) = plt.subplots(nrows = 2, ncols = 1)\n",
    "figure.set_size_inches(16, 8) # 차트 크기를 가로 16인치, 세로 8인치로 설정 합니다.\n",
    "\n",
    "# countplot 으로 현재 능력치 빈도를 시각화 하고, ax1 에 설정합니다.\n",
    "sns.countplot(data = train, x = \"stat_overall\", ax = ax1)\n",
    "\n",
    "# barplot 으로 현재 능력치별 이적료를 시각화 하고, ax2 에 설정합니다.\n",
    "sns.barplot(data = train, x = \"stat_overall\", y = \"value\", ax = ax2)"
   ]
  },
  {
   "cell_type": "markdown",
   "metadata": {},
   "source": [
    "현재 능력치는 정규분포에 가까운 형태를 나타내고 있으며 현재 능력치 63 ~ 72인 선수가 많다는 것을 알 수 있습니다.\n",
    "\n",
    "또한, 현재 능력치가 높을 수록 이적료가 높다는 것을 알 수 있습니다."
   ]
  },
  {
   "cell_type": "markdown",
   "metadata": {},
   "source": [
    "### stat_potential 컬럼"
   ]
  },
  {
   "cell_type": "code",
   "execution_count": 26,
   "metadata": {},
   "outputs": [
    {
     "data": {
      "text/plain": [
       "<matplotlib.axes._subplots.AxesSubplot at 0x1a1a04d048>"
      ]
     },
     "execution_count": 26,
     "metadata": {},
     "output_type": "execute_result"
    },
    {
     "data": {
      "image/png": "[encoded data removed]",
      "text/plain": [
       "<Figure size 1152x576 with 2 Axes>"
      ]
     },
     "metadata": {
      "image/png": {
       "height": 484,
       "width": 954
      },
      "needs_background": "light"
     },
     "output_type": "display_data"
    }
   ],
   "source": [
    "# 차트를 여러개 그리기 위한 설정을 합니다.\n",
    "figure, ((ax1), (ax2)) = plt.subplots(nrows = 2, ncols = 1)\n",
    "figure.set_size_inches(16, 8) # 차트 크기를 가로 16인치, 세로 8인치로 설정 합니다.\n",
    "\n",
    "# countplot 으로 잠재 능력치 빈도를 시각화 하고, ax1 에 설정합니다.\n",
    "sns.countplot(data = train, x = \"stat_potential\", ax = ax1)\n",
    "\n",
    "# barplot 으로 잠재 능력치별 이적료를 시각화 하고, ax2 에 설정합니다.\n",
    "sns.barplot(data = train, x = \"stat_potential\", y = \"value\", ax = ax2)"
   ]
  },
  {
   "cell_type": "markdown",
   "metadata": {},
   "source": [
    "잠재 능력치도 정규분포에 가까운 형태를 나타내고 있으며 잠재 능력치가 66 ~ 75인 선수가 많다는 것을 알 수 있습니다.\n",
    "\n",
    "또한, 잠재 능력치가 높을 수록 이적료가 높다는 것을 알 수 있습니다."
   ]
  },
  {
   "cell_type": "markdown",
   "metadata": {},
   "source": [
    "### stat_skill_moves 컬럼"
   ]
  },
  {
   "cell_type": "code",
   "execution_count": 27,
   "metadata": {},
   "outputs": [
    {
     "data": {
      "text/plain": [
       "<matplotlib.axes._subplots.AxesSubplot at 0x1a1ed6bb70>"
      ]
     },
     "execution_count": 27,
     "metadata": {},
     "output_type": "execute_result"
    },
    {
     "data": {
      "image/png": "[encoded data removed]",
      "text/plain": [
       "<Figure size 1152x576 with 2 Axes>"
      ]
     },
     "metadata": {
      "image/png": {
       "height": 484,
       "width": 962
      },
      "needs_background": "light"
     },
     "output_type": "display_data"
    }
   ],
   "source": [
    "# 차트를 여러개 그리기 위한 설정을 합니다.\n",
    "figure, ((ax1), (ax2)) = plt.subplots(nrows = 2, ncols = 1)\n",
    "figure.set_size_inches(16, 8) # 차트 크기를 가로 16인치, 세로 8인치로 설정 합니다.\n",
    "\n",
    "# countplot 으로 잠재 능력치 빈도를 시각화 하고, ax1 에 설정합니다.\n",
    "sns.countplot(data = train, x = \"stat_skill_moves\", ax = ax1)\n",
    "\n",
    "# barplot 으로 잠재 능력치별 이적료를 시각화 하고, ax2 에 설정합니다.\n",
    "sns.barplot(data = train, x = \"stat_skill_moves\", y = \"value\", ax = ax2)"
   ]
  },
  {
   "cell_type": "markdown",
   "metadata": {},
   "source": [
    "개인기 능력치가 2, 3인 선수들이 많으며 개인기 능력치가 높을 수록 이적료도 높다는 것을 알 수 있습니다. "
   ]
  },
  {
   "cell_type": "markdown",
   "metadata": {},
   "source": [
    "---"
   ]
  },
  {
   "cell_type": "markdown",
   "metadata": {},
   "source": [
    "## Feature engineering"
   ]
  },
  {
   "cell_type": "markdown",
   "metadata": {},
   "source": [
    "### age 컬럼 engineering 및 one hot encoding"
   ]
  },
  {
   "cell_type": "code",
   "execution_count": 28,
   "metadata": {},
   "outputs": [],
   "source": [
    "def find_age(row):\n",
    "    if row < 20:\n",
    "        return \"10대\"\n",
    "    \n",
    "    elif row < 25:\n",
    "        return \"20대 초반\"\n",
    "    \n",
    "    elif row < 30:\n",
    "        return \"20대 후반\"\n",
    "    \n",
    "    elif row < 35:\n",
    "        return \"30대 초반\"\n",
    "    \n",
    "    elif row < 40:\n",
    "        return \"30대 후반\"\n",
    "    \n",
    "    else:\n",
    "        return \"40대\""
   ]
  },
  {
   "cell_type": "code",
   "execution_count": 29,
   "metadata": {},
   "outputs": [],
   "source": [
    "train[\"age(clean)\"] = train[\"age\"].apply(find_age)"
   ]
  },
  {
   "cell_type": "code",
   "execution_count": 30,
   "metadata": {},
   "outputs": [],
   "source": [
    "test[\"age(clean)\"] = test[\"age\"].apply(find_age)"
   ]
  },
  {
   "cell_type": "code",
   "execution_count": 31,
   "metadata": {},
   "outputs": [],
   "source": [
    "# continent 컬럼을 one hot encoding 으로 변환 후 각 신규 컬럼에 할당합니다.\n",
    "train[\"age(10대)\"] = train[\"age(clean)\"] == \"10대\"\n",
    "train[\"age(20대 초반)\"] = train[\"age(clean)\"] == \"20대 초반\"\n",
    "train[\"age(20대 후반)\"] = train[\"age(clean)\"] == \"20대 후반\"\n",
    "train[\"age(30대 초반)\"] = train[\"age(clean)\"] == \"30대 초반\"\n",
    "train[\"age(30대 후반)\"] = train[\"age(clean)\"] == \"30대 후반\"\n",
    "train[\"age(40대)\"] = train[\"age(clean)\"] == \"40대\""
   ]
  },
  {
   "cell_type": "code",
   "execution_count": 32,
   "metadata": {},
   "outputs": [],
   "source": [
    "test[\"age(10대)\"] = train[\"age(clean)\"] == \"10대\"\n",
    "test[\"age(20대 초반)\"] = test[\"age(clean)\"] == \"20대 초반\"\n",
    "test[\"age(20대 후반)\"] = test[\"age(clean)\"] == \"20대 후반\"\n",
    "test[\"age(30대 초반)\"] = test[\"age(clean)\"] == \"30대 초반\"\n",
    "test[\"age(30대 후반)\"] = test[\"age(clean)\"] == \"30대 후반\"\n",
    "test[\"age(40대)\"] = test[\"age(clean)\"] == \"40대\""
   ]
  },
  {
   "cell_type": "code",
   "execution_count": 33,
   "metadata": {},
   "outputs": [
    {
     "data": {
      "text/html": [
       "<div>\n",
       "<style scoped>\n",
       "    .dataframe tbody tr th:only-of-type {\n",
       "        vertical-align: middle;\n",
       "    }\n",
       "\n",
       "    .dataframe tbody tr th {\n",
       "        vertical-align: top;\n",
       "    }\n",
       "\n",
       "    .dataframe thead th {\n",
       "        text-align: right;\n",
       "    }\n",
       "</style>\n",
       "<table border=\"1\" class=\"dataframe\">\n",
       "  <thead>\n",
       "    <tr style=\"text-align: right;\">\n",
       "      <th></th>\n",
       "      <th>id</th>\n",
       "      <th>name</th>\n",
       "      <th>age</th>\n",
       "      <th>continent</th>\n",
       "      <th>contract_until</th>\n",
       "      <th>position</th>\n",
       "      <th>prefer_foot</th>\n",
       "      <th>reputation</th>\n",
       "      <th>stat_overall</th>\n",
       "      <th>stat_potential</th>\n",
       "      <th>stat_skill_moves</th>\n",
       "      <th>value</th>\n",
       "      <th>contract_until(clean)</th>\n",
       "      <th>contract_until(year)</th>\n",
       "      <th>contract_until(month)</th>\n",
       "      <th>contract_until(day)</th>\n",
       "      <th>age(clean)</th>\n",
       "      <th>age(10대)</th>\n",
       "      <th>age(20대 초반)</th>\n",
       "      <th>age(20대 후반)</th>\n",
       "      <th>age(30대 초반)</th>\n",
       "      <th>age(30대 후반)</th>\n",
       "      <th>age(40대)</th>\n",
       "    </tr>\n",
       "  </thead>\n",
       "  <tbody>\n",
       "    <tr>\n",
       "      <td>0</td>\n",
       "      <td>0</td>\n",
       "      <td>L. Messi</td>\n",
       "      <td>31</td>\n",
       "      <td>south america</td>\n",
       "      <td>2021</td>\n",
       "      <td>ST</td>\n",
       "      <td>left</td>\n",
       "      <td>5.0</td>\n",
       "      <td>94</td>\n",
       "      <td>94</td>\n",
       "      <td>4.0</td>\n",
       "      <td>110500000.0</td>\n",
       "      <td>2021-01-01</td>\n",
       "      <td>2021</td>\n",
       "      <td>1</td>\n",
       "      <td>1</td>\n",
       "      <td>30대 초반</td>\n",
       "      <td>False</td>\n",
       "      <td>False</td>\n",
       "      <td>False</td>\n",
       "      <td>True</td>\n",
       "      <td>False</td>\n",
       "      <td>False</td>\n",
       "    </tr>\n",
       "    <tr>\n",
       "      <td>1</td>\n",
       "      <td>3</td>\n",
       "      <td>De Gea</td>\n",
       "      <td>27</td>\n",
       "      <td>europe</td>\n",
       "      <td>2020</td>\n",
       "      <td>GK</td>\n",
       "      <td>right</td>\n",
       "      <td>4.0</td>\n",
       "      <td>91</td>\n",
       "      <td>93</td>\n",
       "      <td>1.0</td>\n",
       "      <td>72000000.0</td>\n",
       "      <td>2020-01-01</td>\n",
       "      <td>2020</td>\n",
       "      <td>1</td>\n",
       "      <td>1</td>\n",
       "      <td>20대 후반</td>\n",
       "      <td>False</td>\n",
       "      <td>False</td>\n",
       "      <td>True</td>\n",
       "      <td>False</td>\n",
       "      <td>False</td>\n",
       "      <td>False</td>\n",
       "    </tr>\n",
       "    <tr>\n",
       "      <td>2</td>\n",
       "      <td>7</td>\n",
       "      <td>L. Suárez</td>\n",
       "      <td>31</td>\n",
       "      <td>south america</td>\n",
       "      <td>2021</td>\n",
       "      <td>ST</td>\n",
       "      <td>right</td>\n",
       "      <td>5.0</td>\n",
       "      <td>91</td>\n",
       "      <td>91</td>\n",
       "      <td>3.0</td>\n",
       "      <td>80000000.0</td>\n",
       "      <td>2021-01-01</td>\n",
       "      <td>2021</td>\n",
       "      <td>1</td>\n",
       "      <td>1</td>\n",
       "      <td>30대 초반</td>\n",
       "      <td>False</td>\n",
       "      <td>False</td>\n",
       "      <td>False</td>\n",
       "      <td>True</td>\n",
       "      <td>False</td>\n",
       "      <td>False</td>\n",
       "    </tr>\n",
       "    <tr>\n",
       "      <td>3</td>\n",
       "      <td>8</td>\n",
       "      <td>Sergio Ramos</td>\n",
       "      <td>32</td>\n",
       "      <td>europe</td>\n",
       "      <td>2020</td>\n",
       "      <td>DF</td>\n",
       "      <td>right</td>\n",
       "      <td>4.0</td>\n",
       "      <td>91</td>\n",
       "      <td>91</td>\n",
       "      <td>3.0</td>\n",
       "      <td>51000000.0</td>\n",
       "      <td>2020-01-01</td>\n",
       "      <td>2020</td>\n",
       "      <td>1</td>\n",
       "      <td>1</td>\n",
       "      <td>30대 초반</td>\n",
       "      <td>False</td>\n",
       "      <td>False</td>\n",
       "      <td>False</td>\n",
       "      <td>True</td>\n",
       "      <td>False</td>\n",
       "      <td>False</td>\n",
       "    </tr>\n",
       "    <tr>\n",
       "      <td>4</td>\n",
       "      <td>9</td>\n",
       "      <td>J. Oblak</td>\n",
       "      <td>25</td>\n",
       "      <td>europe</td>\n",
       "      <td>2021</td>\n",
       "      <td>GK</td>\n",
       "      <td>right</td>\n",
       "      <td>3.0</td>\n",
       "      <td>90</td>\n",
       "      <td>93</td>\n",
       "      <td>1.0</td>\n",
       "      <td>68000000.0</td>\n",
       "      <td>2021-01-01</td>\n",
       "      <td>2021</td>\n",
       "      <td>1</td>\n",
       "      <td>1</td>\n",
       "      <td>20대 후반</td>\n",
       "      <td>False</td>\n",
       "      <td>False</td>\n",
       "      <td>True</td>\n",
       "      <td>False</td>\n",
       "      <td>False</td>\n",
       "      <td>False</td>\n",
       "    </tr>\n",
       "  </tbody>\n",
       "</table>\n",
       "</div>"
      ],
      "text/plain": [
       "   id          name  age      continent contract_until position prefer_foot  \\\n",
       "0   0      L. Messi   31  south america           2021       ST        left   \n",
       "1   3        De Gea   27         europe           2020       GK       right   \n",
       "2   7     L. Suárez   31  south america           2021       ST       right   \n",
       "3   8  Sergio Ramos   32         europe           2020       DF       right   \n",
       "4   9      J. Oblak   25         europe           2021       GK       right   \n",
       "\n",
       "   reputation  stat_overall  stat_potential  stat_skill_moves        value  \\\n",
       "0         5.0            94              94               4.0  110500000.0   \n",
       "1         4.0            91              93               1.0   72000000.0   \n",
       "2         5.0            91              91               3.0   80000000.0   \n",
       "3         4.0            91              91               3.0   51000000.0   \n",
       "4         3.0            90              93               1.0   68000000.0   \n",
       "\n",
       "  contract_until(clean)  contract_until(year)  contract_until(month)  \\\n",
       "0            2021-01-01                  2021                      1   \n",
       "1            2020-01-01                  2020                      1   \n",
       "2            2021-01-01                  2021                      1   \n",
       "3            2020-01-01                  2020                      1   \n",
       "4            2021-01-01                  2021                      1   \n",
       "\n",
       "   contract_until(day) age(clean)  age(10대)  age(20대 초반)  age(20대 후반)  \\\n",
       "0                    1     30대 초반     False        False        False   \n",
       "1                    1     20대 후반     False        False         True   \n",
       "2                    1     30대 초반     False        False        False   \n",
       "3                    1     30대 초반     False        False        False   \n",
       "4                    1     20대 후반     False        False         True   \n",
       "\n",
       "   age(30대 초반)  age(30대 후반)  age(40대)  \n",
       "0         True        False     False  \n",
       "1        False        False     False  \n",
       "2         True        False     False  \n",
       "3         True        False     False  \n",
       "4        False        False     False  "
      ]
     },
     "execution_count": 33,
     "metadata": {},
     "output_type": "execute_result"
    }
   ],
   "source": [
    "train.head()"
   ]
  },
  {
   "cell_type": "markdown",
   "metadata": {},
   "source": [
    "---"
   ]
  },
  {
   "cell_type": "markdown",
   "metadata": {},
   "source": [
    "### continent 컬럼 one hot encoding"
   ]
  },
  {
   "cell_type": "code",
   "execution_count": 34,
   "metadata": {},
   "outputs": [
    {
     "name": "stdout",
     "output_type": "stream",
     "text": [
      "(8932, 28)\n"
     ]
    },
    {
     "data": {
      "text/html": [
       "<div>\n",
       "<style scoped>\n",
       "    .dataframe tbody tr th:only-of-type {\n",
       "        vertical-align: middle;\n",
       "    }\n",
       "\n",
       "    .dataframe tbody tr th {\n",
       "        vertical-align: top;\n",
       "    }\n",
       "\n",
       "    .dataframe thead th {\n",
       "        text-align: right;\n",
       "    }\n",
       "</style>\n",
       "<table border=\"1\" class=\"dataframe\">\n",
       "  <thead>\n",
       "    <tr style=\"text-align: right;\">\n",
       "      <th></th>\n",
       "      <th>continent</th>\n",
       "      <th>continent(sa)</th>\n",
       "      <th>continent(europe)</th>\n",
       "      <th>continent(africa)</th>\n",
       "      <th>continent(asia)</th>\n",
       "      <th>continent(oceania)</th>\n",
       "    </tr>\n",
       "  </thead>\n",
       "  <tbody>\n",
       "    <tr>\n",
       "      <td>0</td>\n",
       "      <td>south america</td>\n",
       "      <td>True</td>\n",
       "      <td>False</td>\n",
       "      <td>False</td>\n",
       "      <td>False</td>\n",
       "      <td>False</td>\n",
       "    </tr>\n",
       "    <tr>\n",
       "      <td>1</td>\n",
       "      <td>europe</td>\n",
       "      <td>False</td>\n",
       "      <td>True</td>\n",
       "      <td>False</td>\n",
       "      <td>False</td>\n",
       "      <td>False</td>\n",
       "    </tr>\n",
       "    <tr>\n",
       "      <td>2</td>\n",
       "      <td>south america</td>\n",
       "      <td>True</td>\n",
       "      <td>False</td>\n",
       "      <td>False</td>\n",
       "      <td>False</td>\n",
       "      <td>False</td>\n",
       "    </tr>\n",
       "    <tr>\n",
       "      <td>3</td>\n",
       "      <td>europe</td>\n",
       "      <td>False</td>\n",
       "      <td>True</td>\n",
       "      <td>False</td>\n",
       "      <td>False</td>\n",
       "      <td>False</td>\n",
       "    </tr>\n",
       "    <tr>\n",
       "      <td>4</td>\n",
       "      <td>europe</td>\n",
       "      <td>False</td>\n",
       "      <td>True</td>\n",
       "      <td>False</td>\n",
       "      <td>False</td>\n",
       "      <td>False</td>\n",
       "    </tr>\n",
       "  </tbody>\n",
       "</table>\n",
       "</div>"
      ],
      "text/plain": [
       "       continent  continent(sa)  continent(europe)  continent(africa)  \\\n",
       "0  south america           True              False              False   \n",
       "1         europe          False               True              False   \n",
       "2  south america           True              False              False   \n",
       "3         europe          False               True              False   \n",
       "4         europe          False               True              False   \n",
       "\n",
       "   continent(asia)  continent(oceania)  \n",
       "0            False               False  \n",
       "1            False               False  \n",
       "2            False               False  \n",
       "3            False               False  \n",
       "4            False               False  "
      ]
     },
     "execution_count": 34,
     "metadata": {},
     "output_type": "execute_result"
    }
   ],
   "source": [
    "# continent 컬럼을 one hot encoding 으로 변환 후 각 신규 컬럼에 할당합니다.\n",
    "train[\"continent(sa)\"] = train[\"continent\"] == \"south america\"\n",
    "train[\"continent(europe)\"] = train[\"continent\"] == \"europe\"\n",
    "train[\"continent(africa)\"] = train[\"continent\"] == \"africa\"\n",
    "train[\"continent(asia)\"] = train[\"continent\"] == \"asia\"\n",
    "train[\"continent(oceania)\"] = train[\"continent\"] == \"oceania\"\n",
    "\n",
    "print(train.shape) # train 데이터의 row, columns 갯수를 출력합니다.\n",
    "\n",
    "# continent 와 관련된 컬럼의 상위 5개 자료를 출력합니다.\n",
    "train[[\"continent\", \"continent(sa)\", \"continent(europe)\", \"continent(africa)\",\n",
    "       \"continent(asia)\", \"continent(oceania)\"]].head()"
   ]
  },
  {
   "cell_type": "code",
   "execution_count": 35,
   "metadata": {},
   "outputs": [
    {
     "name": "stdout",
     "output_type": "stream",
     "text": [
      "(3828, 27)\n"
     ]
    },
    {
     "data": {
      "text/html": [
       "<div>\n",
       "<style scoped>\n",
       "    .dataframe tbody tr th:only-of-type {\n",
       "        vertical-align: middle;\n",
       "    }\n",
       "\n",
       "    .dataframe tbody tr th {\n",
       "        vertical-align: top;\n",
       "    }\n",
       "\n",
       "    .dataframe thead th {\n",
       "        text-align: right;\n",
       "    }\n",
       "</style>\n",
       "<table border=\"1\" class=\"dataframe\">\n",
       "  <thead>\n",
       "    <tr style=\"text-align: right;\">\n",
       "      <th></th>\n",
       "      <th>continent</th>\n",
       "      <th>continent(sa)</th>\n",
       "      <th>continent(europe)</th>\n",
       "      <th>continent(africa)</th>\n",
       "      <th>continent(asia)</th>\n",
       "      <th>continent(oceania)</th>\n",
       "    </tr>\n",
       "  </thead>\n",
       "  <tbody>\n",
       "    <tr>\n",
       "      <td>0</td>\n",
       "      <td>europe</td>\n",
       "      <td>False</td>\n",
       "      <td>True</td>\n",
       "      <td>False</td>\n",
       "      <td>False</td>\n",
       "      <td>False</td>\n",
       "    </tr>\n",
       "    <tr>\n",
       "      <td>1</td>\n",
       "      <td>south america</td>\n",
       "      <td>True</td>\n",
       "      <td>False</td>\n",
       "      <td>False</td>\n",
       "      <td>False</td>\n",
       "      <td>False</td>\n",
       "    </tr>\n",
       "    <tr>\n",
       "      <td>2</td>\n",
       "      <td>europe</td>\n",
       "      <td>False</td>\n",
       "      <td>True</td>\n",
       "      <td>False</td>\n",
       "      <td>False</td>\n",
       "      <td>False</td>\n",
       "    </tr>\n",
       "    <tr>\n",
       "      <td>3</td>\n",
       "      <td>europe</td>\n",
       "      <td>False</td>\n",
       "      <td>True</td>\n",
       "      <td>False</td>\n",
       "      <td>False</td>\n",
       "      <td>False</td>\n",
       "    </tr>\n",
       "    <tr>\n",
       "      <td>4</td>\n",
       "      <td>europe</td>\n",
       "      <td>False</td>\n",
       "      <td>True</td>\n",
       "      <td>False</td>\n",
       "      <td>False</td>\n",
       "      <td>False</td>\n",
       "    </tr>\n",
       "  </tbody>\n",
       "</table>\n",
       "</div>"
      ],
      "text/plain": [
       "       continent  continent(sa)  continent(europe)  continent(africa)  \\\n",
       "0         europe          False               True              False   \n",
       "1  south america           True              False              False   \n",
       "2         europe          False               True              False   \n",
       "3         europe          False               True              False   \n",
       "4         europe          False               True              False   \n",
       "\n",
       "   continent(asia)  continent(oceania)  \n",
       "0            False               False  \n",
       "1            False               False  \n",
       "2            False               False  \n",
       "3            False               False  \n",
       "4            False               False  "
      ]
     },
     "execution_count": 35,
     "metadata": {},
     "output_type": "execute_result"
    }
   ],
   "source": [
    "# test 데이터의 continent 컬럼도 train 데이터와 동일하게 처리 합니다.\n",
    "test[\"continent(sa)\"] = test[\"continent\"] == \"south america\"\n",
    "test[\"continent(europe)\"] = test[\"continent\"] == \"europe\"\n",
    "test[\"continent(africa)\"] = test[\"continent\"] == \"africa\"\n",
    "test[\"continent(asia)\"] = test[\"continent\"] == \"asia\"\n",
    "test[\"continent(oceania)\"] = test[\"continent\"] == \"oceania\"\n",
    "\n",
    "print(test.shape) # test 데이터의 row, columns 갯수를 출력합니다.\n",
    "\n",
    "# continent 와 관련된 컬럼의 상위 5개 자료를 출력합니다.\n",
    "test[[\"continent\", \"continent(sa)\", \"continent(europe)\", \"continent(africa)\",\n",
    "      \"continent(asia)\", \"continent(oceania)\"]].head()"
   ]
  },
  {
   "cell_type": "markdown",
   "metadata": {},
   "source": [
    "## position 컬럼 one hot encoding"
   ]
  },
  {
   "cell_type": "code",
   "execution_count": 36,
   "metadata": {},
   "outputs": [
    {
     "data": {
      "text/plain": [
       "MF    3428\n",
       "DF    2791\n",
       "ST    1705\n",
       "GK    1008\n",
       "Name: position, dtype: int64"
      ]
     },
     "execution_count": 36,
     "metadata": {},
     "output_type": "execute_result"
    }
   ],
   "source": [
    "train[\"position\"].value_counts()"
   ]
  },
  {
   "cell_type": "code",
   "execution_count": 37,
   "metadata": {},
   "outputs": [
    {
     "name": "stdout",
     "output_type": "stream",
     "text": [
      "(8932, 32)\n"
     ]
    },
    {
     "data": {
      "text/html": [
       "<div>\n",
       "<style scoped>\n",
       "    .dataframe tbody tr th:only-of-type {\n",
       "        vertical-align: middle;\n",
       "    }\n",
       "\n",
       "    .dataframe tbody tr th {\n",
       "        vertical-align: top;\n",
       "    }\n",
       "\n",
       "    .dataframe thead th {\n",
       "        text-align: right;\n",
       "    }\n",
       "</style>\n",
       "<table border=\"1\" class=\"dataframe\">\n",
       "  <thead>\n",
       "    <tr style=\"text-align: right;\">\n",
       "      <th></th>\n",
       "      <th>position</th>\n",
       "      <th>position(MF)</th>\n",
       "      <th>position(DF)</th>\n",
       "      <th>position(ST)</th>\n",
       "      <th>position(GK)</th>\n",
       "    </tr>\n",
       "  </thead>\n",
       "  <tbody>\n",
       "    <tr>\n",
       "      <td>0</td>\n",
       "      <td>ST</td>\n",
       "      <td>False</td>\n",
       "      <td>False</td>\n",
       "      <td>True</td>\n",
       "      <td>False</td>\n",
       "    </tr>\n",
       "    <tr>\n",
       "      <td>1</td>\n",
       "      <td>GK</td>\n",
       "      <td>False</td>\n",
       "      <td>False</td>\n",
       "      <td>False</td>\n",
       "      <td>True</td>\n",
       "    </tr>\n",
       "    <tr>\n",
       "      <td>2</td>\n",
       "      <td>ST</td>\n",
       "      <td>False</td>\n",
       "      <td>False</td>\n",
       "      <td>True</td>\n",
       "      <td>False</td>\n",
       "    </tr>\n",
       "    <tr>\n",
       "      <td>3</td>\n",
       "      <td>DF</td>\n",
       "      <td>False</td>\n",
       "      <td>True</td>\n",
       "      <td>False</td>\n",
       "      <td>False</td>\n",
       "    </tr>\n",
       "    <tr>\n",
       "      <td>4</td>\n",
       "      <td>GK</td>\n",
       "      <td>False</td>\n",
       "      <td>False</td>\n",
       "      <td>False</td>\n",
       "      <td>True</td>\n",
       "    </tr>\n",
       "  </tbody>\n",
       "</table>\n",
       "</div>"
      ],
      "text/plain": [
       "  position  position(MF)  position(DF)  position(ST)  position(GK)\n",
       "0       ST         False         False          True         False\n",
       "1       GK         False         False         False          True\n",
       "2       ST         False         False          True         False\n",
       "3       DF         False          True         False         False\n",
       "4       GK         False         False         False          True"
      ]
     },
     "execution_count": 37,
     "metadata": {},
     "output_type": "execute_result"
    }
   ],
   "source": [
    "# position 컬럼을 one hot encoding 으로 변환 후 각 신규 컬럼에 할당합니다.\n",
    "train[\"position(MF)\"] = train[\"position\"] == \"MF\"\n",
    "train[\"position(DF)\"] = train[\"position\"] == \"DF\"\n",
    "train[\"position(ST)\"] = train[\"position\"] == \"ST\"\n",
    "train[\"position(GK)\"] = train[\"position\"] == \"GK\"\n",
    "\n",
    "print(train.shape) # train 데이터의 row, columns 갯수를 출력합니다.\n",
    "\n",
    "# position 와 관련된 컬럼의 상위 5개 자료를 출력합니다.\n",
    "train[[\"position\", \"position(MF)\", \"position(DF)\", \"position(ST)\", \"position(GK)\"]].head()"
   ]
  },
  {
   "cell_type": "code",
   "execution_count": 38,
   "metadata": {},
   "outputs": [
    {
     "name": "stdout",
     "output_type": "stream",
     "text": [
      "(3828, 31)\n"
     ]
    },
    {
     "data": {
      "text/html": [
       "<div>\n",
       "<style scoped>\n",
       "    .dataframe tbody tr th:only-of-type {\n",
       "        vertical-align: middle;\n",
       "    }\n",
       "\n",
       "    .dataframe tbody tr th {\n",
       "        vertical-align: top;\n",
       "    }\n",
       "\n",
       "    .dataframe thead th {\n",
       "        text-align: right;\n",
       "    }\n",
       "</style>\n",
       "<table border=\"1\" class=\"dataframe\">\n",
       "  <thead>\n",
       "    <tr style=\"text-align: right;\">\n",
       "      <th></th>\n",
       "      <th>position</th>\n",
       "      <th>position(MF)</th>\n",
       "      <th>position(DF)</th>\n",
       "      <th>position(ST)</th>\n",
       "      <th>position(GK)</th>\n",
       "    </tr>\n",
       "  </thead>\n",
       "  <tbody>\n",
       "    <tr>\n",
       "      <td>0</td>\n",
       "      <td>ST</td>\n",
       "      <td>False</td>\n",
       "      <td>False</td>\n",
       "      <td>True</td>\n",
       "      <td>False</td>\n",
       "    </tr>\n",
       "    <tr>\n",
       "      <td>1</td>\n",
       "      <td>ST</td>\n",
       "      <td>False</td>\n",
       "      <td>False</td>\n",
       "      <td>True</td>\n",
       "      <td>False</td>\n",
       "    </tr>\n",
       "    <tr>\n",
       "      <td>2</td>\n",
       "      <td>MF</td>\n",
       "      <td>True</td>\n",
       "      <td>False</td>\n",
       "      <td>False</td>\n",
       "      <td>False</td>\n",
       "    </tr>\n",
       "    <tr>\n",
       "      <td>3</td>\n",
       "      <td>ST</td>\n",
       "      <td>False</td>\n",
       "      <td>False</td>\n",
       "      <td>True</td>\n",
       "      <td>False</td>\n",
       "    </tr>\n",
       "    <tr>\n",
       "      <td>4</td>\n",
       "      <td>MF</td>\n",
       "      <td>True</td>\n",
       "      <td>False</td>\n",
       "      <td>False</td>\n",
       "      <td>False</td>\n",
       "    </tr>\n",
       "  </tbody>\n",
       "</table>\n",
       "</div>"
      ],
      "text/plain": [
       "  position  position(MF)  position(DF)  position(ST)  position(GK)\n",
       "0       ST         False         False          True         False\n",
       "1       ST         False         False          True         False\n",
       "2       MF          True         False         False         False\n",
       "3       ST         False         False          True         False\n",
       "4       MF          True         False         False         False"
      ]
     },
     "execution_count": 38,
     "metadata": {},
     "output_type": "execute_result"
    }
   ],
   "source": [
    "# test 데이터의 continent 컬럼도 train 데이터와 동일하게 처리 합니다.\n",
    "test[\"position(MF)\"] = test[\"position\"] == \"MF\"\n",
    "test[\"position(DF)\"] = test[\"position\"] == \"DF\"\n",
    "test[\"position(ST)\"] = test[\"position\"] == \"ST\"\n",
    "test[\"position(GK)\"] = test[\"position\"] == \"GK\"\n",
    "\n",
    "print(test.shape) # test 데이터의 row, columns 갯수를 출력합니다.\n",
    "\n",
    "# position 와 관련된 컬럼의 상위 5개 자료를 출력합니다.\n",
    "test[[\"position\", \"position(MF)\", \"position(DF)\", \"position(ST)\", \"position(GK)\"]].head()"
   ]
  },
  {
   "cell_type": "markdown",
   "metadata": {},
   "source": [
    "## prefer_foot 컬럼 one hot encoding "
   ]
  },
  {
   "cell_type": "code",
   "execution_count": 39,
   "metadata": {},
   "outputs": [
    {
     "data": {
      "text/plain": [
       "right    6837\n",
       "left     2095\n",
       "Name: prefer_foot, dtype: int64"
      ]
     },
     "execution_count": 39,
     "metadata": {},
     "output_type": "execute_result"
    }
   ],
   "source": [
    "train[\"prefer_foot\"].value_counts()"
   ]
  },
  {
   "cell_type": "code",
   "execution_count": 40,
   "metadata": {},
   "outputs": [
    {
     "name": "stdout",
     "output_type": "stream",
     "text": [
      "(8932, 34)\n"
     ]
    },
    {
     "data": {
      "text/html": [
       "<div>\n",
       "<style scoped>\n",
       "    .dataframe tbody tr th:only-of-type {\n",
       "        vertical-align: middle;\n",
       "    }\n",
       "\n",
       "    .dataframe tbody tr th {\n",
       "        vertical-align: top;\n",
       "    }\n",
       "\n",
       "    .dataframe thead th {\n",
       "        text-align: right;\n",
       "    }\n",
       "</style>\n",
       "<table border=\"1\" class=\"dataframe\">\n",
       "  <thead>\n",
       "    <tr style=\"text-align: right;\">\n",
       "      <th></th>\n",
       "      <th>prefer_foot</th>\n",
       "      <th>prefer_foot(right)</th>\n",
       "      <th>prefer_foot(left)</th>\n",
       "    </tr>\n",
       "  </thead>\n",
       "  <tbody>\n",
       "    <tr>\n",
       "      <td>0</td>\n",
       "      <td>left</td>\n",
       "      <td>False</td>\n",
       "      <td>True</td>\n",
       "    </tr>\n",
       "    <tr>\n",
       "      <td>1</td>\n",
       "      <td>right</td>\n",
       "      <td>True</td>\n",
       "      <td>False</td>\n",
       "    </tr>\n",
       "    <tr>\n",
       "      <td>2</td>\n",
       "      <td>right</td>\n",
       "      <td>True</td>\n",
       "      <td>False</td>\n",
       "    </tr>\n",
       "    <tr>\n",
       "      <td>3</td>\n",
       "      <td>right</td>\n",
       "      <td>True</td>\n",
       "      <td>False</td>\n",
       "    </tr>\n",
       "    <tr>\n",
       "      <td>4</td>\n",
       "      <td>right</td>\n",
       "      <td>True</td>\n",
       "      <td>False</td>\n",
       "    </tr>\n",
       "  </tbody>\n",
       "</table>\n",
       "</div>"
      ],
      "text/plain": [
       "  prefer_foot  prefer_foot(right)  prefer_foot(left)\n",
       "0        left               False               True\n",
       "1       right                True              False\n",
       "2       right                True              False\n",
       "3       right                True              False\n",
       "4       right                True              False"
      ]
     },
     "execution_count": 40,
     "metadata": {},
     "output_type": "execute_result"
    }
   ],
   "source": [
    "# prefer_foot 컬럼을 one hot encoding 으로 변환 후 각 신규 컬럼에 할당합니다.\n",
    "train[\"prefer_foot(right)\"] = train[\"prefer_foot\"] == \"right\"\n",
    "train[\"prefer_foot(left)\"] = train[\"prefer_foot\"] == \"left\"\n",
    "\n",
    "print(train.shape) # train 데이터의 row, columns 갯수를 출력합니다.\n",
    "\n",
    "# position 와 관련된 컬럼의 상위 5개 자료를 출력합니다.\n",
    "train[[\"prefer_foot\", \"prefer_foot(right)\", \"prefer_foot(left)\"]].head()"
   ]
  },
  {
   "cell_type": "code",
   "execution_count": 41,
   "metadata": {},
   "outputs": [
    {
     "name": "stdout",
     "output_type": "stream",
     "text": [
      "(3828, 33)\n"
     ]
    },
    {
     "data": {
      "text/html": [
       "<div>\n",
       "<style scoped>\n",
       "    .dataframe tbody tr th:only-of-type {\n",
       "        vertical-align: middle;\n",
       "    }\n",
       "\n",
       "    .dataframe tbody tr th {\n",
       "        vertical-align: top;\n",
       "    }\n",
       "\n",
       "    .dataframe thead th {\n",
       "        text-align: right;\n",
       "    }\n",
       "</style>\n",
       "<table border=\"1\" class=\"dataframe\">\n",
       "  <thead>\n",
       "    <tr style=\"text-align: right;\">\n",
       "      <th></th>\n",
       "      <th>prefer_foot</th>\n",
       "      <th>prefer_foot(right)</th>\n",
       "      <th>prefer_foot(left)</th>\n",
       "    </tr>\n",
       "  </thead>\n",
       "  <tbody>\n",
       "    <tr>\n",
       "      <td>0</td>\n",
       "      <td>right</td>\n",
       "      <td>True</td>\n",
       "      <td>False</td>\n",
       "    </tr>\n",
       "    <tr>\n",
       "      <td>1</td>\n",
       "      <td>right</td>\n",
       "      <td>True</td>\n",
       "      <td>False</td>\n",
       "    </tr>\n",
       "    <tr>\n",
       "      <td>2</td>\n",
       "      <td>right</td>\n",
       "      <td>True</td>\n",
       "      <td>False</td>\n",
       "    </tr>\n",
       "    <tr>\n",
       "      <td>3</td>\n",
       "      <td>right</td>\n",
       "      <td>True</td>\n",
       "      <td>False</td>\n",
       "    </tr>\n",
       "    <tr>\n",
       "      <td>4</td>\n",
       "      <td>right</td>\n",
       "      <td>True</td>\n",
       "      <td>False</td>\n",
       "    </tr>\n",
       "  </tbody>\n",
       "</table>\n",
       "</div>"
      ],
      "text/plain": [
       "  prefer_foot  prefer_foot(right)  prefer_foot(left)\n",
       "0       right                True              False\n",
       "1       right                True              False\n",
       "2       right                True              False\n",
       "3       right                True              False\n",
       "4       right                True              False"
      ]
     },
     "execution_count": 41,
     "metadata": {},
     "output_type": "execute_result"
    }
   ],
   "source": [
    "# test 데이터의 continent 컬럼도 train 데이터와 동일하게 처리 합니다.\n",
    "test[\"prefer_foot(right)\"] = test[\"prefer_foot\"] == \"right\"\n",
    "test[\"prefer_foot(left)\"] = test[\"prefer_foot\"] == \"left\"\n",
    "\n",
    "print(test.shape) # test 데이터의 row, columns 갯수를 출력합니다.\n",
    "\n",
    "# position 와 관련된 컬럼의 상위 5개 자료를 출력합니다.\n",
    "test[[\"prefer_foot\", \"prefer_foot(right)\", \"prefer_foot(left)\"]].head()"
   ]
  },
  {
   "cell_type": "markdown",
   "metadata": {},
   "source": [
    "---"
   ]
  },
  {
   "cell_type": "markdown",
   "metadata": {},
   "source": [
    "## Train"
   ]
  },
  {
   "cell_type": "code",
   "execution_count": 48,
   "metadata": {},
   "outputs": [],
   "source": [
    "# feature 로 사용할 컬럼을 feature_names 이라는 변수에 할당 합니다.\n",
    "feature_names = ['age', 'age(10대)', 'age(20대 초반)', 'age(20대 후반)', 'age(30대 초반)', 'age(30대 후반)',\n",
    "                 'age(40대)', 'reputation', 'stat_overall', 'stat_potential', 'stat_skill_moves',\n",
    "                'contract_until(year)','contract_until(month)', 'contract_until(day)',\n",
    "                 'continent(sa)', 'continent(europe)', 'continent(africa)',\n",
    "                'continent(asia)', 'continent(oceania)', 'position(MF)', 'position(DF)',\n",
    "                'position(ST)', 'position(GK)', 'prefer_foot(right)', 'prefer_foot(left)']\n"
   ]
  },
  {
   "cell_type": "code",
   "execution_count": 49,
   "metadata": {},
   "outputs": [
    {
     "data": {
      "text/plain": [
       "'value'"
      ]
     },
     "execution_count": 49,
     "metadata": {},
     "output_type": "execute_result"
    }
   ],
   "source": [
    "# value 컬럼을 label_name 이라는 변수에 할당합니다.\n",
    "label_name = \"value\"\n",
    "label_name"
   ]
  },
  {
   "cell_type": "code",
   "execution_count": 50,
   "metadata": {},
   "outputs": [
    {
     "name": "stdout",
     "output_type": "stream",
     "text": [
      "(8932, 25)\n"
     ]
    },
    {
     "data": {
      "text/html": [
       "<div>\n",
       "<style scoped>\n",
       "    .dataframe tbody tr th:only-of-type {\n",
       "        vertical-align: middle;\n",
       "    }\n",
       "\n",
       "    .dataframe tbody tr th {\n",
       "        vertical-align: top;\n",
       "    }\n",
       "\n",
       "    .dataframe thead th {\n",
       "        text-align: right;\n",
       "    }\n",
       "</style>\n",
       "<table border=\"1\" class=\"dataframe\">\n",
       "  <thead>\n",
       "    <tr style=\"text-align: right;\">\n",
       "      <th></th>\n",
       "      <th>age</th>\n",
       "      <th>age(10대)</th>\n",
       "      <th>age(20대 초반)</th>\n",
       "      <th>age(20대 후반)</th>\n",
       "      <th>age(30대 초반)</th>\n",
       "      <th>age(30대 후반)</th>\n",
       "      <th>age(40대)</th>\n",
       "      <th>reputation</th>\n",
       "      <th>stat_overall</th>\n",
       "      <th>stat_potential</th>\n",
       "      <th>stat_skill_moves</th>\n",
       "      <th>contract_until(year)</th>\n",
       "      <th>contract_until(month)</th>\n",
       "      <th>contract_until(day)</th>\n",
       "      <th>continent(sa)</th>\n",
       "      <th>continent(europe)</th>\n",
       "      <th>continent(africa)</th>\n",
       "      <th>continent(asia)</th>\n",
       "      <th>continent(oceania)</th>\n",
       "      <th>position(MF)</th>\n",
       "      <th>position(DF)</th>\n",
       "      <th>position(ST)</th>\n",
       "      <th>position(GK)</th>\n",
       "      <th>prefer_foot(right)</th>\n",
       "      <th>prefer_foot(left)</th>\n",
       "    </tr>\n",
       "  </thead>\n",
       "  <tbody>\n",
       "    <tr>\n",
       "      <td>0</td>\n",
       "      <td>31</td>\n",
       "      <td>False</td>\n",
       "      <td>False</td>\n",
       "      <td>False</td>\n",
       "      <td>True</td>\n",
       "      <td>False</td>\n",
       "      <td>False</td>\n",
       "      <td>5.0</td>\n",
       "      <td>94</td>\n",
       "      <td>94</td>\n",
       "      <td>4.0</td>\n",
       "      <td>2021</td>\n",
       "      <td>1</td>\n",
       "      <td>1</td>\n",
       "      <td>True</td>\n",
       "      <td>False</td>\n",
       "      <td>False</td>\n",
       "      <td>False</td>\n",
       "      <td>False</td>\n",
       "      <td>False</td>\n",
       "      <td>False</td>\n",
       "      <td>True</td>\n",
       "      <td>False</td>\n",
       "      <td>False</td>\n",
       "      <td>True</td>\n",
       "    </tr>\n",
       "    <tr>\n",
       "      <td>1</td>\n",
       "      <td>27</td>\n",
       "      <td>False</td>\n",
       "      <td>False</td>\n",
       "      <td>True</td>\n",
       "      <td>False</td>\n",
       "      <td>False</td>\n",
       "      <td>False</td>\n",
       "      <td>4.0</td>\n",
       "      <td>91</td>\n",
       "      <td>93</td>\n",
       "      <td>1.0</td>\n",
       "      <td>2020</td>\n",
       "      <td>1</td>\n",
       "      <td>1</td>\n",
       "      <td>False</td>\n",
       "      <td>True</td>\n",
       "      <td>False</td>\n",
       "      <td>False</td>\n",
       "      <td>False</td>\n",
       "      <td>False</td>\n",
       "      <td>False</td>\n",
       "      <td>False</td>\n",
       "      <td>True</td>\n",
       "      <td>True</td>\n",
       "      <td>False</td>\n",
       "    </tr>\n",
       "    <tr>\n",
       "      <td>2</td>\n",
       "      <td>31</td>\n",
       "      <td>False</td>\n",
       "      <td>False</td>\n",
       "      <td>False</td>\n",
       "      <td>True</td>\n",
       "      <td>False</td>\n",
       "      <td>False</td>\n",
       "      <td>5.0</td>\n",
       "      <td>91</td>\n",
       "      <td>91</td>\n",
       "      <td>3.0</td>\n",
       "      <td>2021</td>\n",
       "      <td>1</td>\n",
       "      <td>1</td>\n",
       "      <td>True</td>\n",
       "      <td>False</td>\n",
       "      <td>False</td>\n",
       "      <td>False</td>\n",
       "      <td>False</td>\n",
       "      <td>False</td>\n",
       "      <td>False</td>\n",
       "      <td>True</td>\n",
       "      <td>False</td>\n",
       "      <td>True</td>\n",
       "      <td>False</td>\n",
       "    </tr>\n",
       "    <tr>\n",
       "      <td>3</td>\n",
       "      <td>32</td>\n",
       "      <td>False</td>\n",
       "      <td>False</td>\n",
       "      <td>False</td>\n",
       "      <td>True</td>\n",
       "      <td>False</td>\n",
       "      <td>False</td>\n",
       "      <td>4.0</td>\n",
       "      <td>91</td>\n",
       "      <td>91</td>\n",
       "      <td>3.0</td>\n",
       "      <td>2020</td>\n",
       "      <td>1</td>\n",
       "      <td>1</td>\n",
       "      <td>False</td>\n",
       "      <td>True</td>\n",
       "      <td>False</td>\n",
       "      <td>False</td>\n",
       "      <td>False</td>\n",
       "      <td>False</td>\n",
       "      <td>True</td>\n",
       "      <td>False</td>\n",
       "      <td>False</td>\n",
       "      <td>True</td>\n",
       "      <td>False</td>\n",
       "    </tr>\n",
       "    <tr>\n",
       "      <td>4</td>\n",
       "      <td>25</td>\n",
       "      <td>False</td>\n",
       "      <td>False</td>\n",
       "      <td>True</td>\n",
       "      <td>False</td>\n",
       "      <td>False</td>\n",
       "      <td>False</td>\n",
       "      <td>3.0</td>\n",
       "      <td>90</td>\n",
       "      <td>93</td>\n",
       "      <td>1.0</td>\n",
       "      <td>2021</td>\n",
       "      <td>1</td>\n",
       "      <td>1</td>\n",
       "      <td>False</td>\n",
       "      <td>True</td>\n",
       "      <td>False</td>\n",
       "      <td>False</td>\n",
       "      <td>False</td>\n",
       "      <td>False</td>\n",
       "      <td>False</td>\n",
       "      <td>False</td>\n",
       "      <td>True</td>\n",
       "      <td>True</td>\n",
       "      <td>False</td>\n",
       "    </tr>\n",
       "  </tbody>\n",
       "</table>\n",
       "</div>"
      ],
      "text/plain": [
       "   age  age(10대)  age(20대 초반)  age(20대 후반)  age(30대 초반)  age(30대 후반)  \\\n",
       "0   31     False        False        False         True        False   \n",
       "1   27     False        False         True        False        False   \n",
       "2   31     False        False        False         True        False   \n",
       "3   32     False        False        False         True        False   \n",
       "4   25     False        False         True        False        False   \n",
       "\n",
       "   age(40대)  reputation  stat_overall  stat_potential  stat_skill_moves  \\\n",
       "0     False         5.0            94              94               4.0   \n",
       "1     False         4.0            91              93               1.0   \n",
       "2     False         5.0            91              91               3.0   \n",
       "3     False         4.0            91              91               3.0   \n",
       "4     False         3.0            90              93               1.0   \n",
       "\n",
       "   contract_until(year)  contract_until(month)  contract_until(day)  \\\n",
       "0                  2021                      1                    1   \n",
       "1                  2020                      1                    1   \n",
       "2                  2021                      1                    1   \n",
       "3                  2020                      1                    1   \n",
       "4                  2021                      1                    1   \n",
       "\n",
       "   continent(sa)  continent(europe)  continent(africa)  continent(asia)  \\\n",
       "0           True              False              False            False   \n",
       "1          False               True              False            False   \n",
       "2           True              False              False            False   \n",
       "3          False               True              False            False   \n",
       "4          False               True              False            False   \n",
       "\n",
       "   continent(oceania)  position(MF)  position(DF)  position(ST)  position(GK)  \\\n",
       "0               False         False         False          True         False   \n",
       "1               False         False         False         False          True   \n",
       "2               False         False         False          True         False   \n",
       "3               False         False          True         False         False   \n",
       "4               False         False         False         False          True   \n",
       "\n",
       "   prefer_foot(right)  prefer_foot(left)  \n",
       "0               False               True  \n",
       "1                True              False  \n",
       "2                True              False  \n",
       "3                True              False  \n",
       "4                True              False  "
      ]
     },
     "execution_count": 50,
     "metadata": {},
     "output_type": "execute_result"
    }
   ],
   "source": [
    "# feature_names 를 활용해 train 데이터의 feature 를 가져오고 이를 X_train 이라는 변수에 할당합니다.\n",
    "X_train = train[feature_names]\n",
    "\n",
    "print(X_train.shape) # X_train 데이터의 row, column 갯수를 출력 합니다.\n",
    "X_train.head() # X_train 데이터의 상위 5개 자료를 출력 합니다."
   ]
  },
  {
   "cell_type": "code",
   "execution_count": 51,
   "metadata": {},
   "outputs": [
    {
     "name": "stdout",
     "output_type": "stream",
     "text": [
      "(3828, 25)\n"
     ]
    },
    {
     "data": {
      "text/html": [
       "<div>\n",
       "<style scoped>\n",
       "    .dataframe tbody tr th:only-of-type {\n",
       "        vertical-align: middle;\n",
       "    }\n",
       "\n",
       "    .dataframe tbody tr th {\n",
       "        vertical-align: top;\n",
       "    }\n",
       "\n",
       "    .dataframe thead th {\n",
       "        text-align: right;\n",
       "    }\n",
       "</style>\n",
       "<table border=\"1\" class=\"dataframe\">\n",
       "  <thead>\n",
       "    <tr style=\"text-align: right;\">\n",
       "      <th></th>\n",
       "      <th>age</th>\n",
       "      <th>age(10대)</th>\n",
       "      <th>age(20대 초반)</th>\n",
       "      <th>age(20대 후반)</th>\n",
       "      <th>age(30대 초반)</th>\n",
       "      <th>age(30대 후반)</th>\n",
       "      <th>age(40대)</th>\n",
       "      <th>reputation</th>\n",
       "      <th>stat_overall</th>\n",
       "      <th>stat_potential</th>\n",
       "      <th>stat_skill_moves</th>\n",
       "      <th>contract_until(year)</th>\n",
       "      <th>contract_until(month)</th>\n",
       "      <th>contract_until(day)</th>\n",
       "      <th>continent(sa)</th>\n",
       "      <th>continent(europe)</th>\n",
       "      <th>continent(africa)</th>\n",
       "      <th>continent(asia)</th>\n",
       "      <th>continent(oceania)</th>\n",
       "      <th>position(MF)</th>\n",
       "      <th>position(DF)</th>\n",
       "      <th>position(ST)</th>\n",
       "      <th>position(GK)</th>\n",
       "      <th>prefer_foot(right)</th>\n",
       "      <th>prefer_foot(left)</th>\n",
       "    </tr>\n",
       "  </thead>\n",
       "  <tbody>\n",
       "    <tr>\n",
       "      <td>0</td>\n",
       "      <td>33</td>\n",
       "      <td>False</td>\n",
       "      <td>False</td>\n",
       "      <td>False</td>\n",
       "      <td>True</td>\n",
       "      <td>False</td>\n",
       "      <td>False</td>\n",
       "      <td>5.0</td>\n",
       "      <td>94</td>\n",
       "      <td>94</td>\n",
       "      <td>5.0</td>\n",
       "      <td>2022</td>\n",
       "      <td>1</td>\n",
       "      <td>1</td>\n",
       "      <td>False</td>\n",
       "      <td>True</td>\n",
       "      <td>False</td>\n",
       "      <td>False</td>\n",
       "      <td>False</td>\n",
       "      <td>False</td>\n",
       "      <td>False</td>\n",
       "      <td>True</td>\n",
       "      <td>False</td>\n",
       "      <td>True</td>\n",
       "      <td>False</td>\n",
       "    </tr>\n",
       "    <tr>\n",
       "      <td>1</td>\n",
       "      <td>26</td>\n",
       "      <td>False</td>\n",
       "      <td>False</td>\n",
       "      <td>True</td>\n",
       "      <td>False</td>\n",
       "      <td>False</td>\n",
       "      <td>False</td>\n",
       "      <td>5.0</td>\n",
       "      <td>92</td>\n",
       "      <td>93</td>\n",
       "      <td>5.0</td>\n",
       "      <td>2022</td>\n",
       "      <td>1</td>\n",
       "      <td>1</td>\n",
       "      <td>True</td>\n",
       "      <td>False</td>\n",
       "      <td>False</td>\n",
       "      <td>False</td>\n",
       "      <td>False</td>\n",
       "      <td>False</td>\n",
       "      <td>False</td>\n",
       "      <td>True</td>\n",
       "      <td>False</td>\n",
       "      <td>True</td>\n",
       "      <td>False</td>\n",
       "    </tr>\n",
       "    <tr>\n",
       "      <td>2</td>\n",
       "      <td>27</td>\n",
       "      <td>False</td>\n",
       "      <td>False</td>\n",
       "      <td>True</td>\n",
       "      <td>False</td>\n",
       "      <td>False</td>\n",
       "      <td>False</td>\n",
       "      <td>4.0</td>\n",
       "      <td>91</td>\n",
       "      <td>92</td>\n",
       "      <td>4.0</td>\n",
       "      <td>2023</td>\n",
       "      <td>1</td>\n",
       "      <td>1</td>\n",
       "      <td>False</td>\n",
       "      <td>True</td>\n",
       "      <td>False</td>\n",
       "      <td>False</td>\n",
       "      <td>False</td>\n",
       "      <td>True</td>\n",
       "      <td>False</td>\n",
       "      <td>False</td>\n",
       "      <td>False</td>\n",
       "      <td>True</td>\n",
       "      <td>False</td>\n",
       "    </tr>\n",
       "    <tr>\n",
       "      <td>3</td>\n",
       "      <td>27</td>\n",
       "      <td>False</td>\n",
       "      <td>False</td>\n",
       "      <td>True</td>\n",
       "      <td>False</td>\n",
       "      <td>False</td>\n",
       "      <td>False</td>\n",
       "      <td>4.0</td>\n",
       "      <td>91</td>\n",
       "      <td>91</td>\n",
       "      <td>4.0</td>\n",
       "      <td>2020</td>\n",
       "      <td>1</td>\n",
       "      <td>1</td>\n",
       "      <td>False</td>\n",
       "      <td>True</td>\n",
       "      <td>False</td>\n",
       "      <td>False</td>\n",
       "      <td>False</td>\n",
       "      <td>False</td>\n",
       "      <td>False</td>\n",
       "      <td>True</td>\n",
       "      <td>False</td>\n",
       "      <td>True</td>\n",
       "      <td>False</td>\n",
       "    </tr>\n",
       "    <tr>\n",
       "      <td>4</td>\n",
       "      <td>32</td>\n",
       "      <td>False</td>\n",
       "      <td>False</td>\n",
       "      <td>False</td>\n",
       "      <td>True</td>\n",
       "      <td>False</td>\n",
       "      <td>False</td>\n",
       "      <td>4.0</td>\n",
       "      <td>91</td>\n",
       "      <td>91</td>\n",
       "      <td>4.0</td>\n",
       "      <td>2020</td>\n",
       "      <td>1</td>\n",
       "      <td>1</td>\n",
       "      <td>False</td>\n",
       "      <td>True</td>\n",
       "      <td>False</td>\n",
       "      <td>False</td>\n",
       "      <td>False</td>\n",
       "      <td>True</td>\n",
       "      <td>False</td>\n",
       "      <td>False</td>\n",
       "      <td>False</td>\n",
       "      <td>True</td>\n",
       "      <td>False</td>\n",
       "    </tr>\n",
       "  </tbody>\n",
       "</table>\n",
       "</div>"
      ],
      "text/plain": [
       "   age  age(10대)  age(20대 초반)  age(20대 후반)  age(30대 초반)  age(30대 후반)  \\\n",
       "0   33     False        False        False         True        False   \n",
       "1   26     False        False         True        False        False   \n",
       "2   27     False        False         True        False        False   \n",
       "3   27     False        False         True        False        False   \n",
       "4   32     False        False        False         True        False   \n",
       "\n",
       "   age(40대)  reputation  stat_overall  stat_potential  stat_skill_moves  \\\n",
       "0     False         5.0            94              94               5.0   \n",
       "1     False         5.0            92              93               5.0   \n",
       "2     False         4.0            91              92               4.0   \n",
       "3     False         4.0            91              91               4.0   \n",
       "4     False         4.0            91              91               4.0   \n",
       "\n",
       "   contract_until(year)  contract_until(month)  contract_until(day)  \\\n",
       "0                  2022                      1                    1   \n",
       "1                  2022                      1                    1   \n",
       "2                  2023                      1                    1   \n",
       "3                  2020                      1                    1   \n",
       "4                  2020                      1                    1   \n",
       "\n",
       "   continent(sa)  continent(europe)  continent(africa)  continent(asia)  \\\n",
       "0          False               True              False            False   \n",
       "1           True              False              False            False   \n",
       "2          False               True              False            False   \n",
       "3          False               True              False            False   \n",
       "4          False               True              False            False   \n",
       "\n",
       "   continent(oceania)  position(MF)  position(DF)  position(ST)  position(GK)  \\\n",
       "0               False         False         False          True         False   \n",
       "1               False         False         False          True         False   \n",
       "2               False          True         False         False         False   \n",
       "3               False         False         False          True         False   \n",
       "4               False          True         False         False         False   \n",
       "\n",
       "   prefer_foot(right)  prefer_foot(left)  \n",
       "0                True              False  \n",
       "1                True              False  \n",
       "2                True              False  \n",
       "3                True              False  \n",
       "4                True              False  "
      ]
     },
     "execution_count": 51,
     "metadata": {},
     "output_type": "execute_result"
    }
   ],
   "source": [
    "# feature_names 를 활용해 test 데이터의 feature 를 가져오고 이를 X_test 이라는 변수에 할당합니다.\n",
    "X_test = test[feature_names]\n",
    "\n",
    "print(X_test.shape) # X_test 데이터의 row, column 갯수를 출력 합니다.\n",
    "X_test.head() # X_test 데이터의 상위 5개 자료를 출력 합니다."
   ]
  },
  {
   "cell_type": "code",
   "execution_count": 52,
   "metadata": {},
   "outputs": [
    {
     "name": "stdout",
     "output_type": "stream",
     "text": [
      "(8932,)\n"
     ]
    },
    {
     "data": {
      "text/plain": [
       "0    110500000.0\n",
       "1     72000000.0\n",
       "2     80000000.0\n",
       "3     51000000.0\n",
       "4     68000000.0\n",
       "Name: value, dtype: float64"
      ]
     },
     "execution_count": 52,
     "metadata": {},
     "output_type": "execute_result"
    }
   ],
   "source": [
    "# label_name 을 활용해 train 데이터의 label 을 가져오고 이를 y_train 이라는 변수에 할당합니다.\n",
    "y_train = train[label_name]\n",
    "\n",
    "print(y_train.shape) # y_train 데이터의 row, column 갯수를 출력 합니다.\n",
    "y_train.head() # y_train 데이터의 상위 5개 자료를 띄웁니다."
   ]
  },
  {
   "cell_type": "markdown",
   "metadata": {},
   "source": [
    "---"
   ]
  },
  {
   "cell_type": "markdown",
   "metadata": {},
   "source": [
    "## Evaluation"
   ]
  },
  {
   "cell_type": "code",
   "execution_count": 97,
   "metadata": {},
   "outputs": [
    {
     "data": {
      "text/plain": [
       "LGBMRegressor(boosting_type='gbdt', class_weight=None, colsample_bytree=1.0,\n",
       "              importance_type='split', learning_rate=0.1, max_depth=-1,\n",
       "              metric='mse', min_child_samples=20, min_child_weight=0.001,\n",
       "              min_split_gain=0.0, n_estimators=100, n_jobs=-1, num_leaves=31,\n",
       "              objective=None, random_state=37, reg_alpha=0.0, reg_lambda=0.0,\n",
       "              silent=True, subsample=1.0, subsample_for_bin=200000,\n",
       "              subsample_freq=0)"
      ]
     },
     "execution_count": 97,
     "metadata": {},
     "output_type": "execute_result"
    }
   ],
   "source": [
    "# LGBMRegressor 를 불러옵니다.\n",
    "from lightgbm import LGBMRegressor\n",
    "\n",
    "# random_state 와 metric 만 설정 후 LGBMRegressor 를 model 이라는 변수에 할당합니다.\n",
    "model = LGBMRegressor(random_state = 37, metric = \"mse\")\n",
    "\n",
    "model # model 을 출력합니다."
   ]
  },
  {
   "cell_type": "code",
   "execution_count": 98,
   "metadata": {},
   "outputs": [],
   "source": [
    "# cross_val_score 를 불러옵니다.\n",
    "from sklearn.model_selection import cross_val_score\n",
    "\n",
    "# scoring 은 neg_mean_squared_error, cv 는 20으로 설정 후 \n",
    "# cross validation 결과를 y_predict 라는 변수에 할당합니다.\n",
    "y_predict = cross_val_score(model, X_train, y_train,\n",
    "                            scoring=\"neg_mean_squared_error\", cv = 20)\n",
    "\n",
    "# RMSE 값을 score 라는 변수에 할당합니다.\n",
    "score = np.sqrt(-y_predict)"
   ]
  },
  {
   "cell_type": "code",
   "execution_count": 99,
   "metadata": {},
   "outputs": [
    {
     "name": "stdout",
     "output_type": "stream",
     "text": [
      "점수: [16277883.38954416  1010226.84580683   796231.42801933   338053.82064615\n",
      "   247045.23898952   156165.20630898   155295.68836744    98955.12688263\n",
      "    66539.19093593    76208.60303467    51966.60101636    67238.60154443\n",
      "    65261.56432049    48785.52756643    43221.67839609    42723.80511379\n",
      "    60619.60373518    39504.18049004    41842.38588602    54325.67826508]\n",
      "평균: 986904.7082434787\n",
      "표준편차: 3517213.010416289\n"
     ]
    }
   ],
   "source": [
    "def display_scores(scores): # score 의 점수, 평균, 표준편차를 설정하는 함수를 정의합니다.\n",
    "    print(\"점수:\", scores)\n",
    "    print(\"평균:\", scores.mean())\n",
    "    print(\"표준편차:\", scores.std())\n",
    "\n",
    "display_scores(score) # display_scores 함수에 score 를 대입합니다."
   ]
  },
  {
   "cell_type": "code",
   "execution_count": 56,
   "metadata": {},
   "outputs": [],
   "source": [
    "# 평균: 986904.7082434787"
   ]
  },
  {
   "cell_type": "markdown",
   "metadata": {},
   "source": [
    "---"
   ]
  },
  {
   "cell_type": "markdown",
   "metadata": {},
   "source": [
    "## Coarse Search"
   ]
  },
  {
   "cell_type": "code",
   "execution_count": 103,
   "metadata": {},
   "outputs": [
    {
     "name": "stdout",
     "output_type": "stream",
     "text": [
      " 0 learning_rate = 0.021224, n_estimators = 1000,           max_depth = 24, num_leaves = 358, subsample = 0.502573,           colsample_bytree = 0.578783, score = 1022114.0\n",
      " 1 learning_rate = 0.033049, n_estimators = 1000,           max_depth = 4, num_leaves = 388, subsample = 0.406528,           colsample_bytree = 0.785355, score = 1029444.0\n",
      " 2 learning_rate = 0.099774, n_estimators = 1000,           max_depth = 57, num_leaves = 17, subsample = 0.970676,           colsample_bytree = 0.262880, score = 1071891.0\n",
      " 3 learning_rate = 0.048963, n_estimators = 1000,           max_depth = 84, num_leaves = 389, subsample = 0.652423,           colsample_bytree = 0.479148, score = 1027312.0\n",
      " 4 learning_rate = 0.075542, n_estimators = 1000,           max_depth = 55, num_leaves = 337, subsample = 0.935385,           colsample_bytree = 0.350550, score = 1078815.0\n",
      " 5 learning_rate = 0.026426, n_estimators = 1000,           max_depth = 61, num_leaves = 48, subsample = 0.284731,           colsample_bytree = 0.785130, score = 976862.0\n",
      " 6 learning_rate = 0.070946, n_estimators = 1000,           max_depth = 87, num_leaves = 129, subsample = 0.665164,           colsample_bytree = 0.270815, score = 1097974.0\n",
      " 7 learning_rate = 0.023246, n_estimators = 1000,           max_depth = 98, num_leaves = 84, subsample = 0.600889,           colsample_bytree = 0.799505, score = 979495.0\n",
      " 8 learning_rate = 0.071283, n_estimators = 1000,           max_depth = 68, num_leaves = 372, subsample = 0.360333,           colsample_bytree = 0.546193, score = 1026346.0\n",
      " 9 learning_rate = 0.056422, n_estimators = 1000,           max_depth = 49, num_leaves = 295, subsample = 0.852361,           colsample_bytree = 0.301864, score = 1078968.0\n",
      "10 learning_rate = 0.096551, n_estimators = 1000,           max_depth = 48, num_leaves = 472, subsample = 0.542891,           colsample_bytree = 0.365746, score = 1093509.0\n",
      "11 learning_rate = 0.066186, n_estimators = 1000,           max_depth = 99, num_leaves = 87, subsample = 0.885895,           colsample_bytree = 0.191813, score = 1211069.0\n",
      "12 learning_rate = 0.020855, n_estimators = 1000,           max_depth = 64, num_leaves = 194, subsample = 0.688928,           colsample_bytree = 0.367022, score = 1091925.0\n",
      "13 learning_rate = 0.011897, n_estimators = 1000,           max_depth = 26, num_leaves = 98, subsample = 0.755412,           colsample_bytree = 0.776192, score = 994211.0\n",
      "14 learning_rate = 0.025418, n_estimators = 1000,           max_depth = 45, num_leaves = 289, subsample = 0.356164,           colsample_bytree = 0.124487, score = 1631942.0\n",
      "15 learning_rate = 0.040363, n_estimators = 1000,           max_depth = 65, num_leaves = 427, subsample = 0.734673,           colsample_bytree = 0.565561, score = 1020150.0\n",
      "16 learning_rate = 0.048550, n_estimators = 1000,           max_depth = 11, num_leaves = 202, subsample = 0.911263,           colsample_bytree = 0.788851, score = 982716.0\n",
      "17 learning_rate = 0.052958, n_estimators = 1000,           max_depth = 31, num_leaves = 368, subsample = 0.930151,           colsample_bytree = 0.813724, score = 984433.0\n",
      "18 learning_rate = 0.027325, n_estimators = 1000,           max_depth = 43, num_leaves = 463, subsample = 0.850732,           colsample_bytree = 0.372476, score = 1084997.0\n",
      "19 learning_rate = 0.076291, n_estimators = 1000,           max_depth = 31, num_leaves = 101, subsample = 0.798932,           colsample_bytree = 0.982347, score = 964702.0\n",
      "20 learning_rate = 0.042152, n_estimators = 1000,           max_depth = 29, num_leaves = 284, subsample = 0.866873,           colsample_bytree = 0.569817, score = 1020001.0\n",
      "21 learning_rate = 0.010328, n_estimators = 1000,           max_depth = 6, num_leaves = 212, subsample = 0.919321,           colsample_bytree = 0.646213, score = 1047229.0\n",
      "22 learning_rate = 0.033322, n_estimators = 1000,           max_depth = 99, num_leaves = 267, subsample = 0.757188,           colsample_bytree = 0.711205, score = 991939.0\n",
      "23 learning_rate = 0.073195, n_estimators = 1000,           max_depth = 10, num_leaves = 492, subsample = 0.401377,           colsample_bytree = 0.175589, score = 1207907.0\n",
      "24 learning_rate = 0.088325, n_estimators = 1000,           max_depth = 61, num_leaves = 91, subsample = 0.792454,           colsample_bytree = 0.301026, score = 1072381.0\n",
      "25 learning_rate = 0.048881, n_estimators = 1000,           max_depth = 37, num_leaves = 66, subsample = 0.167643,           colsample_bytree = 0.177747, score = 1213746.0\n",
      "26 learning_rate = 0.056630, n_estimators = 1000,           max_depth = 36, num_leaves = 261, subsample = 0.991139,           colsample_bytree = 0.168465, score = 1216555.0\n",
      "27 learning_rate = 0.033885, n_estimators = 1000,           max_depth = 94, num_leaves = 252, subsample = 0.234281,           colsample_bytree = 0.256587, score = 1113325.0\n",
      "28 learning_rate = 0.021790, n_estimators = 1000,           max_depth = 39, num_leaves = 29, subsample = 0.977869,           colsample_bytree = 0.782380, score = 984067.0\n",
      "29 learning_rate = 0.065143, n_estimators = 1000,           max_depth = 39, num_leaves = 131, subsample = 0.248589,           colsample_bytree = 0.619680, score = 1006291.0\n",
      "30 learning_rate = 0.087814, n_estimators = 1000,           max_depth = 11, num_leaves = 99, subsample = 0.296915,           colsample_bytree = 0.850902, score = 980217.0\n",
      "31 learning_rate = 0.017335, n_estimators = 1000,           max_depth = 47, num_leaves = 25, subsample = 0.343640,           colsample_bytree = 0.926409, score = 976402.0\n",
      "32 learning_rate = 0.087577, n_estimators = 1000,           max_depth = 67, num_leaves = 454, subsample = 0.524976,           colsample_bytree = 0.527290, score = 1031409.0\n",
      "33 learning_rate = 0.070814, n_estimators = 1000,           max_depth = 43, num_leaves = 397, subsample = 0.528625,           colsample_bytree = 0.554190, score = 1024111.0\n",
      "34 learning_rate = 0.062034, n_estimators = 1000,           max_depth = 34, num_leaves = 67, subsample = 0.636046,           colsample_bytree = 0.833883, score = 975215.0\n",
      "35 learning_rate = 0.076526, n_estimators = 1000,           max_depth = 68, num_leaves = 3, subsample = 0.166365,           colsample_bytree = 0.437261, score = 1136516.0\n",
      "36 learning_rate = 0.039192, n_estimators = 1000,           max_depth = 15, num_leaves = 413, subsample = 0.716594,           colsample_bytree = 0.796430, score = 980653.0\n",
      "37 learning_rate = 0.085966, n_estimators = 1000,           max_depth = 39, num_leaves = 105, subsample = 0.282774,           colsample_bytree = 0.297935, score = 1075963.0\n",
      "38 learning_rate = 0.027548, n_estimators = 1000,           max_depth = 83, num_leaves = 221, subsample = 0.744778,           colsample_bytree = 0.370894, score = 1083902.0\n",
      "39 learning_rate = 0.060921, n_estimators = 1000,           max_depth = 20, num_leaves = 6, subsample = 0.517710,           colsample_bytree = 0.733934, score = 1033859.0\n",
      "40 learning_rate = 0.070086, n_estimators = 1000,           max_depth = 77, num_leaves = 190, subsample = 0.418089,           colsample_bytree = 0.588499, score = 1015167.0\n",
      "41 learning_rate = 0.065017, n_estimators = 1000,           max_depth = 49, num_leaves = 151, subsample = 0.389435,           colsample_bytree = 0.557664, score = 1017180.0\n",
      "42 learning_rate = 0.053940, n_estimators = 1000,           max_depth = 40, num_leaves = 364, subsample = 0.874397,           colsample_bytree = 0.979630, score = 977117.0\n",
      "43 learning_rate = 0.065814, n_estimators = 1000,           max_depth = 42, num_leaves = 421, subsample = 0.974088,           colsample_bytree = 0.691845, score = 1001801.0\n",
      "44 learning_rate = 0.087023, n_estimators = 1000,           max_depth = 57, num_leaves = 266, subsample = 0.648344,           colsample_bytree = 0.603122, score = 1016881.0\n",
      "45 learning_rate = 0.064514, n_estimators = 1000,           max_depth = 95, num_leaves = 440, subsample = 0.841779,           colsample_bytree = 0.498567, score = 1027727.0\n",
      "46 learning_rate = 0.069189, n_estimators = 1000,           max_depth = 39, num_leaves = 419, subsample = 0.754568,           colsample_bytree = 0.533421, score = 1028624.0\n",
      "47 learning_rate = 0.063355, n_estimators = 1000,           max_depth = 89, num_leaves = 130, subsample = 0.824778,           colsample_bytree = 0.777726, score = 983636.0\n"
     ]
    },
    {
     "name": "stdout",
     "output_type": "stream",
     "text": [
      "48 learning_rate = 0.089799, n_estimators = 1000,           max_depth = 18, num_leaves = 185, subsample = 0.792739,           colsample_bytree = 0.588414, score = 1013573.0\n",
      "49 learning_rate = 0.034746, n_estimators = 1000,           max_depth = 82, num_leaves = 479, subsample = 0.462476,           colsample_bytree = 0.871142, score = 984333.0\n",
      "(50, 8)\n"
     ]
    },
    {
     "data": {
      "text/html": [
       "<div>\n",
       "<style scoped>\n",
       "    .dataframe tbody tr th:only-of-type {\n",
       "        vertical-align: middle;\n",
       "    }\n",
       "\n",
       "    .dataframe tbody tr th {\n",
       "        vertical-align: top;\n",
       "    }\n",
       "\n",
       "    .dataframe thead th {\n",
       "        text-align: right;\n",
       "    }\n",
       "</style>\n",
       "<table border=\"1\" class=\"dataframe\">\n",
       "  <thead>\n",
       "    <tr style=\"text-align: right;\">\n",
       "      <th></th>\n",
       "      <th>loop</th>\n",
       "      <th>score</th>\n",
       "      <th>learning_rate</th>\n",
       "      <th>n_estimators</th>\n",
       "      <th>max_depth</th>\n",
       "      <th>num_leaves</th>\n",
       "      <th>subsample</th>\n",
       "      <th>colsample_bytree</th>\n",
       "    </tr>\n",
       "  </thead>\n",
       "  <tbody>\n",
       "    <tr>\n",
       "      <td>19</td>\n",
       "      <td>19</td>\n",
       "      <td>964702.0</td>\n",
       "      <td>0.076291</td>\n",
       "      <td>1000</td>\n",
       "      <td>31</td>\n",
       "      <td>101</td>\n",
       "      <td>0.798932</td>\n",
       "      <td>0.982347</td>\n",
       "    </tr>\n",
       "    <tr>\n",
       "      <td>34</td>\n",
       "      <td>34</td>\n",
       "      <td>975215.0</td>\n",
       "      <td>0.062034</td>\n",
       "      <td>1000</td>\n",
       "      <td>34</td>\n",
       "      <td>67</td>\n",
       "      <td>0.636046</td>\n",
       "      <td>0.833883</td>\n",
       "    </tr>\n",
       "    <tr>\n",
       "      <td>31</td>\n",
       "      <td>31</td>\n",
       "      <td>976402.0</td>\n",
       "      <td>0.017335</td>\n",
       "      <td>1000</td>\n",
       "      <td>47</td>\n",
       "      <td>25</td>\n",
       "      <td>0.343640</td>\n",
       "      <td>0.926409</td>\n",
       "    </tr>\n",
       "    <tr>\n",
       "      <td>5</td>\n",
       "      <td>5</td>\n",
       "      <td>976862.0</td>\n",
       "      <td>0.026426</td>\n",
       "      <td>1000</td>\n",
       "      <td>61</td>\n",
       "      <td>48</td>\n",
       "      <td>0.284731</td>\n",
       "      <td>0.785130</td>\n",
       "    </tr>\n",
       "    <tr>\n",
       "      <td>42</td>\n",
       "      <td>42</td>\n",
       "      <td>977117.0</td>\n",
       "      <td>0.053940</td>\n",
       "      <td>1000</td>\n",
       "      <td>40</td>\n",
       "      <td>364</td>\n",
       "      <td>0.874397</td>\n",
       "      <td>0.979630</td>\n",
       "    </tr>\n",
       "    <tr>\n",
       "      <td>7</td>\n",
       "      <td>7</td>\n",
       "      <td>979495.0</td>\n",
       "      <td>0.023246</td>\n",
       "      <td>1000</td>\n",
       "      <td>98</td>\n",
       "      <td>84</td>\n",
       "      <td>0.600889</td>\n",
       "      <td>0.799505</td>\n",
       "    </tr>\n",
       "    <tr>\n",
       "      <td>30</td>\n",
       "      <td>30</td>\n",
       "      <td>980217.0</td>\n",
       "      <td>0.087814</td>\n",
       "      <td>1000</td>\n",
       "      <td>11</td>\n",
       "      <td>99</td>\n",
       "      <td>0.296915</td>\n",
       "      <td>0.850902</td>\n",
       "    </tr>\n",
       "    <tr>\n",
       "      <td>36</td>\n",
       "      <td>36</td>\n",
       "      <td>980653.0</td>\n",
       "      <td>0.039192</td>\n",
       "      <td>1000</td>\n",
       "      <td>15</td>\n",
       "      <td>413</td>\n",
       "      <td>0.716594</td>\n",
       "      <td>0.796430</td>\n",
       "    </tr>\n",
       "    <tr>\n",
       "      <td>16</td>\n",
       "      <td>16</td>\n",
       "      <td>982716.0</td>\n",
       "      <td>0.048550</td>\n",
       "      <td>1000</td>\n",
       "      <td>11</td>\n",
       "      <td>202</td>\n",
       "      <td>0.911263</td>\n",
       "      <td>0.788851</td>\n",
       "    </tr>\n",
       "    <tr>\n",
       "      <td>47</td>\n",
       "      <td>47</td>\n",
       "      <td>983636.0</td>\n",
       "      <td>0.063355</td>\n",
       "      <td>1000</td>\n",
       "      <td>89</td>\n",
       "      <td>130</td>\n",
       "      <td>0.824778</td>\n",
       "      <td>0.777726</td>\n",
       "    </tr>\n",
       "  </tbody>\n",
       "</table>\n",
       "</div>"
      ],
      "text/plain": [
       "    loop     score  learning_rate  n_estimators  max_depth  num_leaves  \\\n",
       "19    19  964702.0       0.076291          1000         31         101   \n",
       "34    34  975215.0       0.062034          1000         34          67   \n",
       "31    31  976402.0       0.017335          1000         47          25   \n",
       "5      5  976862.0       0.026426          1000         61          48   \n",
       "42    42  977117.0       0.053940          1000         40         364   \n",
       "7      7  979495.0       0.023246          1000         98          84   \n",
       "30    30  980217.0       0.087814          1000         11          99   \n",
       "36    36  980653.0       0.039192          1000         15         413   \n",
       "16    16  982716.0       0.048550          1000         11         202   \n",
       "47    47  983636.0       0.063355          1000         89         130   \n",
       "\n",
       "    subsample  colsample_bytree  \n",
       "19   0.798932          0.982347  \n",
       "34   0.636046          0.833883  \n",
       "31   0.343640          0.926409  \n",
       "5    0.284731          0.785130  \n",
       "42   0.874397          0.979630  \n",
       "7    0.600889          0.799505  \n",
       "30   0.296915          0.850902  \n",
       "36   0.716594          0.796430  \n",
       "16   0.911263          0.788851  \n",
       "47   0.824778          0.777726  "
      ]
     },
     "execution_count": 103,
     "metadata": {},
     "output_type": "execute_result"
    }
   ],
   "source": [
    "n_estimators = 1000 # 트리 갯수를 설정합니다.\n",
    "num_loop = 50 # 랜덤 서치를 반복할 횟수를 설정합니다.\n",
    "\n",
    "# coarse_hyperparameters_list 탐색 결과를 리스트로 저장합니다.\n",
    "coarse_hyperparameters_list = []\n",
    "\n",
    "for loop in range(num_loop): # 이론 상으로 존재하는 모든 하이퍼패러미터 범위를 찾습니다.\n",
    "    \n",
    "    learning_rate = np.random.uniform(low = 0.01, high = 0.1)\n",
    "    max_depth = np.random.randint(low = 2, high = 100)        \n",
    "    num_leaves = np.random.randint(2, 500)            \n",
    "    subsample = np.random.uniform(low = 0.1, high = 1.0)\n",
    "    colsample_bytree = np.random.uniform(low = 0.1, high = 1.0)\n",
    "    \n",
    "    # 이를 LGBMRegressor 로 만듭니다.\n",
    "    model = LGBMRegressor(random_state = 37,\n",
    "                          learning_rate = learning_rate,\n",
    "                          n_estimators = n_estimators,                          \n",
    "                          max_depth = max_depth,                                                   \n",
    "                          num_leaves = num_leaves,\n",
    "                          subsample = subsample,\n",
    "                          colsample_bytree = colsample_bytree,\n",
    "                          metric = \"mse\")\n",
    "    \n",
    "    # cross validation 결과를 y_predict 에 할당합니다.\n",
    "    y_predict = cross_val_score(model, X_train, y_train,\n",
    "                                scoring=\"neg_mean_squared_error\", cv = 20)\n",
    "    \n",
    "    # RMSE 값 평균의 반올림 값을 score 에 할당합니다.\n",
    "    score = np.sqrt(-y_predict).mean().round()\n",
    "    \n",
    "    # hyperparameter 탐색 결과를 리스트에 저장합니다.\n",
    "    hyperparameters = {\n",
    "        'loop' : loop,\n",
    "        'score' : score,\n",
    "        'learning_rate' : learning_rate,\n",
    "        'n_estimators' : n_estimators,        \n",
    "        'max_depth' : max_depth,       \n",
    "        'num_leaves' : num_leaves,        \n",
    "        'subsample' : subsample,\n",
    "        'colsample_bytree' : colsample_bytree,        \n",
    "    }\n",
    "    \n",
    "    coarse_hyperparameters_list.append(hyperparameters)\n",
    "    \n",
    "    # hyperparameter 탐색 결과를 출력합니다.\n",
    "    print(f\"{loop:2} learning_rate = {learning_rate:.6f}, n_estimators = {n_estimators}, \\\n",
    "          max_depth = {max_depth}, num_leaves = {num_leaves}, subsample = {subsample:.6f}, \\\n",
    "          colsample_bytree = {colsample_bytree:.6f}, score = {score}\")\n",
    "\n",
    "# coarse_hyperparameters_list를 Pandas의 DataFrame으로 변환합니다.\n",
    "coarse_hyperparameters_list = pd.DataFrame.from_dict(coarse_hyperparameters_list)\n",
    "\n",
    "# 변환한 coarse_hyperparameters_list를 score가 낮은 순으로 정렬합니다.\n",
    "coarse_hyperparameters_list = coarse_hyperparameters_list.sort_values(by=\"score\")\n",
    "\n",
    "# print(coarse_hyperparameters_list.shape)\n",
    "\n",
    "# coarse_hyperparameters_list의 상위 5개를 출력합니다.\n",
    "coarse_hyperparameters_list.head()  "
   ]
  },
  {
   "cell_type": "markdown",
   "metadata": {},
   "source": [
    "---"
   ]
  },
  {
   "cell_type": "markdown",
   "metadata": {},
   "source": [
    "## Random Search(Fine)"
   ]
  },
  {
   "cell_type": "code",
   "execution_count": 105,
   "metadata": {},
   "outputs": [
    {
     "name": "stdout",
     "output_type": "stream",
     "text": [
      " 0 learning_rate = 0.020522, n_estimators = 1000,           max_depth = 45, num_leaves = 305, subsample = 0.640637,           colsample_bytree = 0.883287, score = 975350.0\n",
      " 1 learning_rate = 0.065747, n_estimators = 1000,           max_depth = 55, num_leaves = 203, subsample = 0.568001,           colsample_bytree = 0.926225, score = 975898.0\n",
      " 2 learning_rate = 0.051195, n_estimators = 1000,           max_depth = 53, num_leaves = 69, subsample = 0.621675,           colsample_bytree = 0.884367, score = 969415.0\n",
      " 3 learning_rate = 0.066778, n_estimators = 1000,           max_depth = 50, num_leaves = 142, subsample = 0.711355,           colsample_bytree = 0.866371, score = 977874.0\n",
      " 4 learning_rate = 0.064203, n_estimators = 1000,           max_depth = 50, num_leaves = 226, subsample = 0.744003,           colsample_bytree = 0.877641, score = 981119.0\n",
      " 5 learning_rate = 0.055412, n_estimators = 1000,           max_depth = 46, num_leaves = 140, subsample = 0.871458,           colsample_bytree = 0.952961, score = 969707.0\n",
      " 6 learning_rate = 0.038631, n_estimators = 1000,           max_depth = 37, num_leaves = 247, subsample = 0.708383,           colsample_bytree = 0.949401, score = 972097.0\n",
      " 7 learning_rate = 0.025158, n_estimators = 1000,           max_depth = 57, num_leaves = 302, subsample = 0.336947,           colsample_bytree = 0.914235, score = 978524.0\n",
      " 8 learning_rate = 0.021319, n_estimators = 1000,           max_depth = 40, num_leaves = 112, subsample = 0.611106,           colsample_bytree = 0.806488, score = 982029.0\n",
      " 9 learning_rate = 0.052661, n_estimators = 1000,           max_depth = 59, num_leaves = 239, subsample = 0.543150,           colsample_bytree = 0.973376, score = 974296.0\n",
      "10 learning_rate = 0.065624, n_estimators = 1000,           max_depth = 59, num_leaves = 270, subsample = 0.717776,           colsample_bytree = 0.786524, score = 988390.0\n",
      "11 learning_rate = 0.030119, n_estimators = 1000,           max_depth = 40, num_leaves = 265, subsample = 0.825929,           colsample_bytree = 0.860942, score = 981783.0\n",
      "12 learning_rate = 0.043135, n_estimators = 1000,           max_depth = 53, num_leaves = 127, subsample = 0.394518,           colsample_bytree = 0.797218, score = 979354.0\n",
      "13 learning_rate = 0.055346, n_estimators = 1000,           max_depth = 40, num_leaves = 238, subsample = 0.684294,           colsample_bytree = 0.910940, score = 982595.0\n",
      "14 learning_rate = 0.030745, n_estimators = 1000,           max_depth = 36, num_leaves = 345, subsample = 0.325131,           colsample_bytree = 0.960465, score = 974350.0\n",
      "15 learning_rate = 0.037108, n_estimators = 1000,           max_depth = 50, num_leaves = 282, subsample = 0.419582,           colsample_bytree = 0.945568, score = 972358.0\n",
      "16 learning_rate = 0.031819, n_estimators = 1000,           max_depth = 52, num_leaves = 175, subsample = 0.558460,           colsample_bytree = 0.941522, score = 969608.0\n",
      "17 learning_rate = 0.074037, n_estimators = 1000,           max_depth = 33, num_leaves = 83, subsample = 0.835503,           colsample_bytree = 0.797606, score = 982836.0\n",
      "18 learning_rate = 0.065151, n_estimators = 1000,           max_depth = 33, num_leaves = 323, subsample = 0.797213,           colsample_bytree = 0.904680, score = 979886.0\n",
      "19 learning_rate = 0.066531, n_estimators = 1000,           max_depth = 37, num_leaves = 61, subsample = 0.298618,           colsample_bytree = 0.866129, score = 970643.0\n",
      "20 learning_rate = 0.063141, n_estimators = 1000,           max_depth = 56, num_leaves = 261, subsample = 0.702601,           colsample_bytree = 0.945646, score = 975894.0\n",
      "21 learning_rate = 0.037686, n_estimators = 1000,           max_depth = 33, num_leaves = 82, subsample = 0.555893,           colsample_bytree = 0.919981, score = 969915.0\n",
      "22 learning_rate = 0.056293, n_estimators = 1000,           max_depth = 49, num_leaves = 46, subsample = 0.474907,           colsample_bytree = 0.953168, score = 969216.0\n",
      "23 learning_rate = 0.066028, n_estimators = 1000,           max_depth = 35, num_leaves = 232, subsample = 0.769838,           colsample_bytree = 0.787499, score = 986638.0\n",
      "24 learning_rate = 0.032867, n_estimators = 1000,           max_depth = 59, num_leaves = 310, subsample = 0.606583,           colsample_bytree = 0.789648, score = 985333.0\n",
      "25 learning_rate = 0.035148, n_estimators = 1000,           max_depth = 36, num_leaves = 260, subsample = 0.515449,           colsample_bytree = 0.930651, score = 970987.0\n",
      "26 learning_rate = 0.022598, n_estimators = 1000,           max_depth = 35, num_leaves = 225, subsample = 0.458531,           colsample_bytree = 0.899772, score = 976552.0\n",
      "27 learning_rate = 0.041906, n_estimators = 1000,           max_depth = 56, num_leaves = 37, subsample = 0.560615,           colsample_bytree = 0.796870, score = 968314.0\n",
      "28 learning_rate = 0.067244, n_estimators = 1000,           max_depth = 47, num_leaves = 327, subsample = 0.533824,           colsample_bytree = 0.910103, score = 978312.0\n",
      "29 learning_rate = 0.038302, n_estimators = 1000,           max_depth = 33, num_leaves = 323, subsample = 0.325414,           colsample_bytree = 0.801545, score = 981547.0\n",
      "30 learning_rate = 0.019991, n_estimators = 1000,           max_depth = 53, num_leaves = 146, subsample = 0.554362,           colsample_bytree = 0.822718, score = 986329.0\n",
      "31 learning_rate = 0.058515, n_estimators = 1000,           max_depth = 37, num_leaves = 27, subsample = 0.678976,           colsample_bytree = 0.918208, score = 969055.0\n",
      "32 learning_rate = 0.064360, n_estimators = 1000,           max_depth = 59, num_leaves = 130, subsample = 0.570093,           colsample_bytree = 0.971329, score = 966652.0\n",
      "33 learning_rate = 0.070057, n_estimators = 1000,           max_depth = 45, num_leaves = 97, subsample = 0.433169,           colsample_bytree = 0.845901, score = 975586.0\n",
      "34 learning_rate = 0.028434, n_estimators = 1000,           max_depth = 36, num_leaves = 357, subsample = 0.370116,           colsample_bytree = 0.921205, score = 973064.0\n",
      "35 learning_rate = 0.060636, n_estimators = 1000,           max_depth = 36, num_leaves = 360, subsample = 0.692409,           colsample_bytree = 0.920038, score = 972800.0\n",
      "36 learning_rate = 0.066610, n_estimators = 1000,           max_depth = 44, num_leaves = 316, subsample = 0.299258,           colsample_bytree = 0.942639, score = 976121.0\n",
      "37 learning_rate = 0.021496, n_estimators = 1000,           max_depth = 40, num_leaves = 254, subsample = 0.478104,           colsample_bytree = 0.848058, score = 977853.0\n",
      "38 learning_rate = 0.050465, n_estimators = 1000,           max_depth = 51, num_leaves = 329, subsample = 0.293461,           colsample_bytree = 0.850657, score = 982556.0\n",
      "39 learning_rate = 0.061727, n_estimators = 1000,           max_depth = 50, num_leaves = 178, subsample = 0.638758,           colsample_bytree = 0.818802, score = 984300.0\n",
      "40 learning_rate = 0.029054, n_estimators = 1000,           max_depth = 57, num_leaves = 85, subsample = 0.681691,           colsample_bytree = 0.873833, score = 973571.0\n",
      "41 learning_rate = 0.062801, n_estimators = 1000,           max_depth = 48, num_leaves = 330, subsample = 0.802947,           colsample_bytree = 0.852636, score = 980423.0\n",
      "42 learning_rate = 0.056326, n_estimators = 1000,           max_depth = 35, num_leaves = 338, subsample = 0.471207,           colsample_bytree = 0.869218, score = 984390.0\n",
      "43 learning_rate = 0.037311, n_estimators = 1000,           max_depth = 32, num_leaves = 285, subsample = 0.752755,           colsample_bytree = 0.949264, score = 972977.0\n",
      "44 learning_rate = 0.037883, n_estimators = 1000,           max_depth = 31, num_leaves = 360, subsample = 0.867521,           colsample_bytree = 0.819397, score = 981598.0\n",
      "45 learning_rate = 0.058723, n_estimators = 1000,           max_depth = 48, num_leaves = 93, subsample = 0.375151,           colsample_bytree = 0.795065, score = 980274.0\n",
      "46 learning_rate = 0.057009, n_estimators = 1000,           max_depth = 50, num_leaves = 97, subsample = 0.545804,           colsample_bytree = 0.946977, score = 969825.0\n",
      "47 learning_rate = 0.050669, n_estimators = 1000,           max_depth = 55, num_leaves = 254, subsample = 0.681092,           colsample_bytree = 0.944801, score = 971505.0\n"
     ]
    },
    {
     "name": "stdout",
     "output_type": "stream",
     "text": [
      "48 learning_rate = 0.046656, n_estimators = 1000,           max_depth = 39, num_leaves = 120, subsample = 0.307096,           colsample_bytree = 0.930532, score = 968001.0\n",
      "49 learning_rate = 0.057364, n_estimators = 1000,           max_depth = 46, num_leaves = 283, subsample = 0.805560,           colsample_bytree = 0.975074, score = 970677.0\n"
     ]
    },
    {
     "data": {
      "text/html": [
       "<div>\n",
       "<style scoped>\n",
       "    .dataframe tbody tr th:only-of-type {\n",
       "        vertical-align: middle;\n",
       "    }\n",
       "\n",
       "    .dataframe tbody tr th {\n",
       "        vertical-align: top;\n",
       "    }\n",
       "\n",
       "    .dataframe thead th {\n",
       "        text-align: right;\n",
       "    }\n",
       "</style>\n",
       "<table border=\"1\" class=\"dataframe\">\n",
       "  <thead>\n",
       "    <tr style=\"text-align: right;\">\n",
       "      <th></th>\n",
       "      <th>loop</th>\n",
       "      <th>score</th>\n",
       "      <th>learning_rate</th>\n",
       "      <th>n_estimators</th>\n",
       "      <th>max_depth</th>\n",
       "      <th>num_leaves</th>\n",
       "      <th>subsample</th>\n",
       "      <th>colsample_bytree</th>\n",
       "    </tr>\n",
       "  </thead>\n",
       "  <tbody>\n",
       "    <tr>\n",
       "      <td>32</td>\n",
       "      <td>32</td>\n",
       "      <td>966652.0</td>\n",
       "      <td>0.064360</td>\n",
       "      <td>1000</td>\n",
       "      <td>59</td>\n",
       "      <td>130</td>\n",
       "      <td>0.570093</td>\n",
       "      <td>0.971329</td>\n",
       "    </tr>\n",
       "    <tr>\n",
       "      <td>48</td>\n",
       "      <td>48</td>\n",
       "      <td>968001.0</td>\n",
       "      <td>0.046656</td>\n",
       "      <td>1000</td>\n",
       "      <td>39</td>\n",
       "      <td>120</td>\n",
       "      <td>0.307096</td>\n",
       "      <td>0.930532</td>\n",
       "    </tr>\n",
       "    <tr>\n",
       "      <td>27</td>\n",
       "      <td>27</td>\n",
       "      <td>968314.0</td>\n",
       "      <td>0.041906</td>\n",
       "      <td>1000</td>\n",
       "      <td>56</td>\n",
       "      <td>37</td>\n",
       "      <td>0.560615</td>\n",
       "      <td>0.796870</td>\n",
       "    </tr>\n",
       "    <tr>\n",
       "      <td>31</td>\n",
       "      <td>31</td>\n",
       "      <td>969055.0</td>\n",
       "      <td>0.058515</td>\n",
       "      <td>1000</td>\n",
       "      <td>37</td>\n",
       "      <td>27</td>\n",
       "      <td>0.678976</td>\n",
       "      <td>0.918208</td>\n",
       "    </tr>\n",
       "    <tr>\n",
       "      <td>22</td>\n",
       "      <td>22</td>\n",
       "      <td>969216.0</td>\n",
       "      <td>0.056293</td>\n",
       "      <td>1000</td>\n",
       "      <td>49</td>\n",
       "      <td>46</td>\n",
       "      <td>0.474907</td>\n",
       "      <td>0.953168</td>\n",
       "    </tr>\n",
       "  </tbody>\n",
       "</table>\n",
       "</div>"
      ],
      "text/plain": [
       "    loop     score  learning_rate  n_estimators  max_depth  num_leaves  \\\n",
       "32    32  966652.0       0.064360          1000         59         130   \n",
       "48    48  968001.0       0.046656          1000         39         120   \n",
       "27    27  968314.0       0.041906          1000         56          37   \n",
       "31    31  969055.0       0.058515          1000         37          27   \n",
       "22    22  969216.0       0.056293          1000         49          46   \n",
       "\n",
       "    subsample  colsample_bytree  \n",
       "32   0.570093          0.971329  \n",
       "48   0.307096          0.930532  \n",
       "27   0.560615          0.796870  \n",
       "31   0.678976          0.918208  \n",
       "22   0.474907          0.953168  "
      ]
     },
     "execution_count": 105,
     "metadata": {},
     "output_type": "execute_result"
    }
   ],
   "source": [
    "n_estimators = 1000 # 트리 갯수를 설정합니다.\n",
    "num_loop = 50 # 랜덤 서치를 반복할 횟수를 설정합니다.\n",
    "\n",
    "# finer_hyperparameters_list 탐색 결과를 리스트로 저장합니다.\n",
    "finer_hyperparameters_list = []\n",
    "\n",
    "for loop in range(num_loop): # 이론 상으로 존재하는 모든 하이퍼패러미터 범위를 찾습니다.\n",
    "    learning_rate = np.random.uniform(low = 0.017335, high = 0.076291)\n",
    "    max_depth = np.random.randint(low = 31, high = 61)        \n",
    "    num_leaves = np.random.randint(low = 25, high = 364)            \n",
    "    subsample = np.random.uniform(low = 0.284731, high = 0.874397)\n",
    "    colsample_bytree = np.random.uniform(low = 0.785130, high = 0.982347)\n",
    "    \n",
    "    # 이를 LGBMRegressor 로 만듭니다.\n",
    "    model = LGBMRegressor(random_state = 37,\n",
    "                          learning_rate = learning_rate,\n",
    "                          n_estimators = n_estimators,                          \n",
    "                          max_depth = max_depth,                                                   \n",
    "                          num_leaves = num_leaves,\n",
    "                          subsample = subsample,\n",
    "                          colsample_bytree = colsample_bytree,\n",
    "                          metric = \"mse\")\n",
    "    \n",
    "    # cross validation 결과를 y_predict 에 할당합니다.\n",
    "    y_predict = cross_val_score(model, X_train, y_train,\n",
    "                                scoring=\"neg_mean_squared_error\", cv = 20)\n",
    "    \n",
    "    # RMSE 값 평균의 반올림 값을 score 에 할당합니다.\n",
    "    score = np.sqrt(-y_predict).mean().round()\n",
    "    \n",
    "    # hyperparameter 탐색 결과를 리스트에 저장합니다.\n",
    "    finer_hyperparameters = {\n",
    "        'loop' : loop,\n",
    "        'score' : score,\n",
    "        'learning_rate' : learning_rate,\n",
    "        'n_estimators' : n_estimators,        \n",
    "        'max_depth' : max_depth,       \n",
    "        'num_leaves' : num_leaves,        \n",
    "        'subsample' : subsample,\n",
    "        'colsample_bytree' : colsample_bytree,   \n",
    "    }\n",
    "    \n",
    "    finer_hyperparameters_list.append(finer_hyperparameters)\n",
    "    \n",
    "    # hyperparameter 탐색 결과를 출력합니다.\n",
    "    print(f\"{loop:2} learning_rate = {learning_rate:.6f}, n_estimators = {n_estimators}, \\\n",
    "          max_depth = {max_depth}, num_leaves = {num_leaves}, subsample = {subsample:.6f}, \\\n",
    "          colsample_bytree = {colsample_bytree:.6f}, score = {score}\")\n",
    "\n",
    "# finer_hyperparameters_list를 Pandas의 DataFrame으로 변환합니다.\n",
    "finer_hyperparameters_list = pd.DataFrame(finer_hyperparameters_list)\n",
    "\n",
    "# 변환한 finer_hyperparameters_list를 score가 낮은 순으로 정렬합니다.\n",
    "finer_hyperparameters_list = finer_hyperparameters_list.sort_values(by = \"score\")\n",
    "\n",
    "# finer_hyperparameters_list의 상위 5개를 출력합니다.\n",
    "finer_hyperparameters_list.head()"
   ]
  },
  {
   "cell_type": "code",
   "execution_count": 106,
   "metadata": {},
   "outputs": [
    {
     "data": {
      "text/plain": [
       "loop                    32.000000\n",
       "score               966652.000000\n",
       "learning_rate            0.064360\n",
       "n_estimators          1000.000000\n",
       "max_depth               59.000000\n",
       "num_leaves             130.000000\n",
       "subsample                0.570093\n",
       "colsample_bytree         0.971329\n",
       "Name: 32, dtype: float64"
      ]
     },
     "execution_count": 106,
     "metadata": {},
     "output_type": "execute_result"
    }
   ],
   "source": [
    "# finer search로 찾은 가장 좋은 하이퍼패러미터 값을\n",
    "# best_hyperparameters 라는 변수에 할당합니다.\n",
    "best_hyperparameters = finer_hyperparameters_list.iloc[0]\n",
    "\n",
    "# best_hyperparameters 를 출력합니다.\n",
    "best_hyperparameters"
   ]
  },
  {
   "cell_type": "markdown",
   "metadata": {},
   "source": [
    "## Fit"
   ]
  },
  {
   "cell_type": "code",
   "execution_count": 107,
   "metadata": {},
   "outputs": [
    {
     "data": {
      "text/plain": [
       "LGBMRegressor(boosting_type='gbdt', class_weight=None,\n",
       "              colsample_bytree=0.971329, importance_type='split',\n",
       "              learning_rate=0.06436, max_depth=59, metric='mse',\n",
       "              min_child_samples=20, min_child_weight=0.001, min_split_gain=0.0,\n",
       "              n_estimators=1000, n_jobs=-1, num_leaves=130, objective=None,\n",
       "              random_state=37, reg_alpha=0.0, reg_lambda=0.0, silent=True,\n",
       "              subsample=0.570093, subsample_for_bin=200000, subsample_freq=0)"
      ]
     },
     "execution_count": 107,
     "metadata": {},
     "output_type": "execute_result"
    }
   ],
   "source": [
    "# 가장 좋은 하이퍼패러미터로 LGBMRegressor 를 만든 후\n",
    "# model 이라는 변수에 할당합니다.\n",
    "model = LGBMRegressor(random_state = 37,\n",
    "                      learning_rate = 0.064360,\n",
    "                      n_estimators = 1000,\n",
    "                      max_depth = 59,\n",
    "                      num_leaves = 130,\n",
    "                      subsample = 0.570093,\n",
    "                      colsample_bytree = 0.971329,\n",
    "                      metric = \"mse\")\n",
    "\n",
    "model # model 을 출력합니다."
   ]
  },
  {
   "cell_type": "code",
   "execution_count": 108,
   "metadata": {},
   "outputs": [
    {
     "data": {
      "text/plain": [
       "LGBMRegressor(boosting_type='gbdt', class_weight=None,\n",
       "              colsample_bytree=0.971329, importance_type='split',\n",
       "              learning_rate=0.06436, max_depth=59, metric='mse',\n",
       "              min_child_samples=20, min_child_weight=0.001, min_split_gain=0.0,\n",
       "              n_estimators=1000, n_jobs=-1, num_leaves=130, objective=None,\n",
       "              random_state=37, reg_alpha=0.0, reg_lambda=0.0, silent=True,\n",
       "              subsample=0.570093, subsample_for_bin=200000, subsample_freq=0)"
      ]
     },
     "execution_count": 108,
     "metadata": {},
     "output_type": "execute_result"
    }
   ],
   "source": [
    "# model 에 X_train, y_train 을 학습합니다.\n",
    "model.fit(X_train, y_train)"
   ]
  },
  {
   "cell_type": "code",
   "execution_count": 109,
   "metadata": {},
   "outputs": [],
   "source": [
    "# 학습한 model 로 cross validation 값을 측정 후 \n",
    "# y_predict 라는 변수에 할당합니다.\n",
    "y_predict = cross_val_score(model, X_train, y_train,\n",
    "                            scoring=\"neg_mean_squared_error\", cv = 20)\n",
    "\n",
    "# y_predict 의 RMSE 값을 score 라는 변수에 할당합니다.\n",
    "score = np.sqrt(-y_predict)"
   ]
  },
  {
   "cell_type": "code",
   "execution_count": 110,
   "metadata": {},
   "outputs": [
    {
     "name": "stdout",
     "output_type": "stream",
     "text": [
      "점수: [16120341.84514484   949416.82777487   735418.53617858   331904.01710395\n",
      "   254325.00196463   176296.94716451   138378.11109697   110280.22506094\n",
      "    60056.75731183    64642.67403319    52616.2127751     45177.92366356\n",
      "    40739.75509597    36410.43079618    27651.88143232    26512.42086507\n",
      "    47848.66622109    28612.63672756    23637.78996884    47075.64734337]\n",
      "평균: 965867.2153861688\n",
      "표준편차: 3485038.218825731\n"
     ]
    }
   ],
   "source": [
    "def display_scores(scores): # score 의 점수, 평균, 표준편차를 설정하는 함수를 정의합니다.\n",
    "    print(\"점수:\", scores)\n",
    "    print(\"평균:\", scores.mean())\n",
    "    print(\"표준편차:\", scores.std())\n",
    "\n",
    "display_scores(score) # display_scores 함수에 score 를 대입합니다."
   ]
  },
  {
   "cell_type": "code",
   "execution_count": 111,
   "metadata": {},
   "outputs": [],
   "source": [
    "# 평균: 965867.2153861688"
   ]
  },
  {
   "cell_type": "markdown",
   "metadata": {},
   "source": [
    "---"
   ]
  },
  {
   "cell_type": "markdown",
   "metadata": {},
   "source": [
    "## Predict"
   ]
  },
  {
   "cell_type": "code",
   "execution_count": 112,
   "metadata": {},
   "outputs": [
    {
     "name": "stdout",
     "output_type": "stream",
     "text": [
      "(3828,)\n"
     ]
    },
    {
     "data": {
      "text/plain": [
       "array([6.90471200e+07, 8.04341705e+07, 7.45200654e+07, ...,\n",
       "       5.64048879e+04, 5.42805909e+04, 5.46105561e+04])"
      ]
     },
     "execution_count": 112,
     "metadata": {},
     "output_type": "execute_result"
    }
   ],
   "source": [
    "# 학습한 model 에 X_test 를 예측한 후 prediction 이라는 변수에 할당합니다.\n",
    "prediction = model.predict(X_test)\n",
    "\n",
    "print(prediction.shape) # prediction 의 row, column 갯수를 출력합니다.\n",
    "prediction # prediction 을 출력합니다."
   ]
  },
  {
   "cell_type": "markdown",
   "metadata": {},
   "source": [
    "---"
   ]
  },
  {
   "cell_type": "markdown",
   "metadata": {},
   "source": [
    "## Submit"
   ]
  },
  {
   "cell_type": "code",
   "execution_count": 113,
   "metadata": {},
   "outputs": [
    {
     "name": "stdout",
     "output_type": "stream",
     "text": [
      "(3828, 2)\n"
     ]
    },
    {
     "data": {
      "text/html": [
       "<div>\n",
       "<style scoped>\n",
       "    .dataframe tbody tr th:only-of-type {\n",
       "        vertical-align: middle;\n",
       "    }\n",
       "\n",
       "    .dataframe tbody tr th {\n",
       "        vertical-align: top;\n",
       "    }\n",
       "\n",
       "    .dataframe thead th {\n",
       "        text-align: right;\n",
       "    }\n",
       "</style>\n",
       "<table border=\"1\" class=\"dataframe\">\n",
       "  <thead>\n",
       "    <tr style=\"text-align: right;\">\n",
       "      <th></th>\n",
       "      <th>id</th>\n",
       "      <th>value</th>\n",
       "    </tr>\n",
       "  </thead>\n",
       "  <tbody>\n",
       "    <tr>\n",
       "      <td>0</td>\n",
       "      <td>1</td>\n",
       "      <td>6.904712e+07</td>\n",
       "    </tr>\n",
       "    <tr>\n",
       "      <td>1</td>\n",
       "      <td>2</td>\n",
       "      <td>8.043417e+07</td>\n",
       "    </tr>\n",
       "    <tr>\n",
       "      <td>2</td>\n",
       "      <td>4</td>\n",
       "      <td>7.452007e+07</td>\n",
       "    </tr>\n",
       "    <tr>\n",
       "      <td>3</td>\n",
       "      <td>5</td>\n",
       "      <td>8.357388e+07</td>\n",
       "    </tr>\n",
       "    <tr>\n",
       "      <td>4</td>\n",
       "      <td>6</td>\n",
       "      <td>6.419942e+07</td>\n",
       "    </tr>\n",
       "  </tbody>\n",
       "</table>\n",
       "</div>"
      ],
      "text/plain": [
       "   id         value\n",
       "0   1  6.904712e+07\n",
       "1   2  8.043417e+07\n",
       "2   4  7.452007e+07\n",
       "3   5  8.357388e+07\n",
       "4   6  6.419942e+07"
      ]
     },
     "execution_count": 113,
     "metadata": {},
     "output_type": "execute_result"
    }
   ],
   "source": [
    "# 제출 형식을 불러온 후 submit 이라는 변수에 할당합니다.\n",
    "submit = pd.read_csv(\"data/submission.csv\")\n",
    "\n",
    "# submit 의 value 컬럼에 prediction 값을 설정합니다.\n",
    "submit[\"value\"] = prediction\n",
    "\n",
    "print(submit.shape) # submit 의 row, column 갯수를 출력합니다.\n",
    "submit.head() # submit 을 상위 5개 자료를 출력합니다."
   ]
  },
  {
   "cell_type": "code",
   "execution_count": 114,
   "metadata": {},
   "outputs": [],
   "source": [
    "# index 를 뺀 submit 데이터를 submission.csv 로 만듭니다.\n",
    "submit.to_csv(\"submission.csv\", index = False)"
   ]
  },
  {
   "cell_type": "code",
   "execution_count": null,
   "metadata": {},
   "outputs": [],
   "source": []
  }
 ],
 "metadata": {
  "kernelspec": {
   "display_name": "Python 3",
   "language": "python",
   "name": "python3"
  },
  "language_info": {
   "codemirror_mode": {
    "name": "ipython",
    "version": 3
   },
   "file_extension": ".py",
   "mimetype": "text/x-python",
   "name": "python",
   "nbconvert_exporter": "python",
   "pygments_lexer": "ipython3",
   "version": "3.7.3"
  }
 },
 "nbformat": 4,
 "nbformat_minor": 2
}
